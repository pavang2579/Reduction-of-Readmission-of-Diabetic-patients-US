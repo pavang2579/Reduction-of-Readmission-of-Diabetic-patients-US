{
 "cells": [
  {
   "cell_type": "markdown",
   "metadata": {},
   "source": [
    "#                                            Final Project"
   ]
  },
  {
   "cell_type": "markdown",
   "metadata": {},
   "source": [
    "### Reduction of Hospital Readmission of Diabetic Patients within 30 days"
   ]
  },
  {
   "cell_type": "code",
   "execution_count": 1,
   "metadata": {},
   "outputs": [],
   "source": [
    "import pandas as pd\n",
    "import numpy as np"
   ]
  },
  {
   "cell_type": "markdown",
   "metadata": {},
   "source": [
    "#### Reading data set into variable called 'data'"
   ]
  },
  {
   "cell_type": "code",
   "execution_count": 2,
   "metadata": {},
   "outputs": [],
   "source": [
    "data =pd.read_csv(\"diabetic_data.csv\")"
   ]
  },
  {
   "cell_type": "code",
   "execution_count": 3,
   "metadata": {
    "scrolled": false
   },
   "outputs": [
    {
     "data": {
      "text/plain": [
       "Index(['encounter_id', 'patient_nbr', 'race', 'gender', 'age', 'weight',\n",
       "       'admission_type_id', 'discharge_disposition_id', 'admission_source_id',\n",
       "       'time_in_hospital', 'payer_code', 'medical_specialty',\n",
       "       'num_lab_procedures', 'num_procedures', 'num_medications',\n",
       "       'number_outpatient', 'number_emergency', 'number_inpatient', 'diag_1',\n",
       "       'diag_2', 'diag_3', 'number_diagnoses', 'max_glu_serum', 'A1Cresult',\n",
       "       'metformin', 'repaglinide', 'nateglinide', 'chlorpropamide',\n",
       "       'glimepiride', 'acetohexamide', 'glipizide', 'glyburide', 'tolbutamide',\n",
       "       'pioglitazone', 'rosiglitazone', 'acarbose', 'miglitol', 'troglitazone',\n",
       "       'tolazamide', 'examide', 'citoglipton', 'insulin',\n",
       "       'glyburide-metformin', 'glipizide-metformin',\n",
       "       'glimepiride-pioglitazone', 'metformin-rosiglitazone',\n",
       "       'metformin-pioglitazone', 'change', 'diabetesMed', 'readmitted'],\n",
       "      dtype='object')"
      ]
     },
     "execution_count": 3,
     "metadata": {},
     "output_type": "execute_result"
    }
   ],
   "source": [
    "data.keys()"
   ]
  },
  {
   "cell_type": "code",
   "execution_count": 4,
   "metadata": {
    "scrolled": false
   },
   "outputs": [
    {
     "data": {
      "text/plain": [
       "(101766, 50)"
      ]
     },
     "execution_count": 4,
     "metadata": {},
     "output_type": "execute_result"
    }
   ],
   "source": [
    "data.shape"
   ]
  },
  {
   "cell_type": "code",
   "execution_count": 5,
   "metadata": {},
   "outputs": [
    {
     "name": "stdout",
     "output_type": "stream",
     "text": [
      "<class 'pandas.core.frame.DataFrame'>\n",
      "RangeIndex: 101766 entries, 0 to 101765\n",
      "Data columns (total 50 columns):\n",
      "encounter_id                101766 non-null int64\n",
      "patient_nbr                 101766 non-null int64\n",
      "race                        101766 non-null object\n",
      "gender                      101766 non-null object\n",
      "age                         101766 non-null object\n",
      "weight                      101766 non-null object\n",
      "admission_type_id           101766 non-null int64\n",
      "discharge_disposition_id    101766 non-null int64\n",
      "admission_source_id         101766 non-null int64\n",
      "time_in_hospital            101766 non-null int64\n",
      "payer_code                  101766 non-null object\n",
      "medical_specialty           101766 non-null object\n",
      "num_lab_procedures          101766 non-null int64\n",
      "num_procedures              101766 non-null int64\n",
      "num_medications             101766 non-null int64\n",
      "number_outpatient           101766 non-null int64\n",
      "number_emergency            101766 non-null int64\n",
      "number_inpatient            101766 non-null int64\n",
      "diag_1                      101766 non-null object\n",
      "diag_2                      101766 non-null object\n",
      "diag_3                      101766 non-null object\n",
      "number_diagnoses            101766 non-null int64\n",
      "max_glu_serum               101766 non-null object\n",
      "A1Cresult                   101766 non-null object\n",
      "metformin                   101766 non-null object\n",
      "repaglinide                 101766 non-null object\n",
      "nateglinide                 101766 non-null object\n",
      "chlorpropamide              101766 non-null object\n",
      "glimepiride                 101766 non-null object\n",
      "acetohexamide               101766 non-null object\n",
      "glipizide                   101766 non-null object\n",
      "glyburide                   101766 non-null object\n",
      "tolbutamide                 101766 non-null object\n",
      "pioglitazone                101766 non-null object\n",
      "rosiglitazone               101766 non-null object\n",
      "acarbose                    101766 non-null object\n",
      "miglitol                    101766 non-null object\n",
      "troglitazone                101766 non-null object\n",
      "tolazamide                  101766 non-null object\n",
      "examide                     101766 non-null object\n",
      "citoglipton                 101766 non-null object\n",
      "insulin                     101766 non-null object\n",
      "glyburide-metformin         101766 non-null object\n",
      "glipizide-metformin         101766 non-null object\n",
      "glimepiride-pioglitazone    101766 non-null object\n",
      "metformin-rosiglitazone     101766 non-null object\n",
      "metformin-pioglitazone      101766 non-null object\n",
      "change                      101766 non-null object\n",
      "diabetesMed                 101766 non-null object\n",
      "readmitted                  101766 non-null object\n",
      "dtypes: int64(13), object(37)\n",
      "memory usage: 38.8+ MB\n"
     ]
    }
   ],
   "source": [
    "data.info()"
   ]
  },
  {
   "cell_type": "code",
   "execution_count": 6,
   "metadata": {
    "scrolled": true
   },
   "outputs": [
    {
     "data": {
      "text/html": [
       "<div>\n",
       "<style scoped>\n",
       "    .dataframe tbody tr th:only-of-type {\n",
       "        vertical-align: middle;\n",
       "    }\n",
       "\n",
       "    .dataframe tbody tr th {\n",
       "        vertical-align: top;\n",
       "    }\n",
       "\n",
       "    .dataframe thead th {\n",
       "        text-align: right;\n",
       "    }\n",
       "</style>\n",
       "<table border=\"1\" class=\"dataframe\">\n",
       "  <thead>\n",
       "    <tr style=\"text-align: right;\">\n",
       "      <th></th>\n",
       "      <th>encounter_id</th>\n",
       "      <th>patient_nbr</th>\n",
       "      <th>admission_type_id</th>\n",
       "      <th>discharge_disposition_id</th>\n",
       "      <th>admission_source_id</th>\n",
       "      <th>time_in_hospital</th>\n",
       "      <th>num_lab_procedures</th>\n",
       "      <th>num_procedures</th>\n",
       "      <th>num_medications</th>\n",
       "      <th>number_outpatient</th>\n",
       "      <th>number_emergency</th>\n",
       "      <th>number_inpatient</th>\n",
       "      <th>number_diagnoses</th>\n",
       "    </tr>\n",
       "  </thead>\n",
       "  <tbody>\n",
       "    <tr>\n",
       "      <th>count</th>\n",
       "      <td>1.017660e+05</td>\n",
       "      <td>1.017660e+05</td>\n",
       "      <td>101766.000000</td>\n",
       "      <td>101766.000000</td>\n",
       "      <td>101766.000000</td>\n",
       "      <td>101766.000000</td>\n",
       "      <td>101766.000000</td>\n",
       "      <td>101766.000000</td>\n",
       "      <td>101766.000000</td>\n",
       "      <td>101766.000000</td>\n",
       "      <td>101766.000000</td>\n",
       "      <td>101766.000000</td>\n",
       "      <td>101766.000000</td>\n",
       "    </tr>\n",
       "    <tr>\n",
       "      <th>mean</th>\n",
       "      <td>1.652016e+08</td>\n",
       "      <td>5.433040e+07</td>\n",
       "      <td>2.024006</td>\n",
       "      <td>3.715642</td>\n",
       "      <td>5.754437</td>\n",
       "      <td>4.395987</td>\n",
       "      <td>43.095641</td>\n",
       "      <td>1.339730</td>\n",
       "      <td>16.021844</td>\n",
       "      <td>0.369357</td>\n",
       "      <td>0.197836</td>\n",
       "      <td>0.635566</td>\n",
       "      <td>7.422607</td>\n",
       "    </tr>\n",
       "    <tr>\n",
       "      <th>std</th>\n",
       "      <td>1.026403e+08</td>\n",
       "      <td>3.869636e+07</td>\n",
       "      <td>1.445403</td>\n",
       "      <td>5.280166</td>\n",
       "      <td>4.064081</td>\n",
       "      <td>2.985108</td>\n",
       "      <td>19.674362</td>\n",
       "      <td>1.705807</td>\n",
       "      <td>8.127566</td>\n",
       "      <td>1.267265</td>\n",
       "      <td>0.930472</td>\n",
       "      <td>1.262863</td>\n",
       "      <td>1.933600</td>\n",
       "    </tr>\n",
       "    <tr>\n",
       "      <th>min</th>\n",
       "      <td>1.252200e+04</td>\n",
       "      <td>1.350000e+02</td>\n",
       "      <td>1.000000</td>\n",
       "      <td>1.000000</td>\n",
       "      <td>1.000000</td>\n",
       "      <td>1.000000</td>\n",
       "      <td>1.000000</td>\n",
       "      <td>0.000000</td>\n",
       "      <td>1.000000</td>\n",
       "      <td>0.000000</td>\n",
       "      <td>0.000000</td>\n",
       "      <td>0.000000</td>\n",
       "      <td>1.000000</td>\n",
       "    </tr>\n",
       "    <tr>\n",
       "      <th>25%</th>\n",
       "      <td>8.496119e+07</td>\n",
       "      <td>2.341322e+07</td>\n",
       "      <td>1.000000</td>\n",
       "      <td>1.000000</td>\n",
       "      <td>1.000000</td>\n",
       "      <td>2.000000</td>\n",
       "      <td>31.000000</td>\n",
       "      <td>0.000000</td>\n",
       "      <td>10.000000</td>\n",
       "      <td>0.000000</td>\n",
       "      <td>0.000000</td>\n",
       "      <td>0.000000</td>\n",
       "      <td>6.000000</td>\n",
       "    </tr>\n",
       "    <tr>\n",
       "      <th>50%</th>\n",
       "      <td>1.523890e+08</td>\n",
       "      <td>4.550514e+07</td>\n",
       "      <td>1.000000</td>\n",
       "      <td>1.000000</td>\n",
       "      <td>7.000000</td>\n",
       "      <td>4.000000</td>\n",
       "      <td>44.000000</td>\n",
       "      <td>1.000000</td>\n",
       "      <td>15.000000</td>\n",
       "      <td>0.000000</td>\n",
       "      <td>0.000000</td>\n",
       "      <td>0.000000</td>\n",
       "      <td>8.000000</td>\n",
       "    </tr>\n",
       "    <tr>\n",
       "      <th>75%</th>\n",
       "      <td>2.302709e+08</td>\n",
       "      <td>8.754595e+07</td>\n",
       "      <td>3.000000</td>\n",
       "      <td>4.000000</td>\n",
       "      <td>7.000000</td>\n",
       "      <td>6.000000</td>\n",
       "      <td>57.000000</td>\n",
       "      <td>2.000000</td>\n",
       "      <td>20.000000</td>\n",
       "      <td>0.000000</td>\n",
       "      <td>0.000000</td>\n",
       "      <td>1.000000</td>\n",
       "      <td>9.000000</td>\n",
       "    </tr>\n",
       "    <tr>\n",
       "      <th>max</th>\n",
       "      <td>4.438672e+08</td>\n",
       "      <td>1.895026e+08</td>\n",
       "      <td>8.000000</td>\n",
       "      <td>28.000000</td>\n",
       "      <td>25.000000</td>\n",
       "      <td>14.000000</td>\n",
       "      <td>132.000000</td>\n",
       "      <td>6.000000</td>\n",
       "      <td>81.000000</td>\n",
       "      <td>42.000000</td>\n",
       "      <td>76.000000</td>\n",
       "      <td>21.000000</td>\n",
       "      <td>16.000000</td>\n",
       "    </tr>\n",
       "  </tbody>\n",
       "</table>\n",
       "</div>"
      ],
      "text/plain": [
       "       encounter_id   patient_nbr  admission_type_id  \\\n",
       "count  1.017660e+05  1.017660e+05      101766.000000   \n",
       "mean   1.652016e+08  5.433040e+07           2.024006   \n",
       "std    1.026403e+08  3.869636e+07           1.445403   \n",
       "min    1.252200e+04  1.350000e+02           1.000000   \n",
       "25%    8.496119e+07  2.341322e+07           1.000000   \n",
       "50%    1.523890e+08  4.550514e+07           1.000000   \n",
       "75%    2.302709e+08  8.754595e+07           3.000000   \n",
       "max    4.438672e+08  1.895026e+08           8.000000   \n",
       "\n",
       "       discharge_disposition_id  admission_source_id  time_in_hospital  \\\n",
       "count             101766.000000        101766.000000     101766.000000   \n",
       "mean                   3.715642             5.754437          4.395987   \n",
       "std                    5.280166             4.064081          2.985108   \n",
       "min                    1.000000             1.000000          1.000000   \n",
       "25%                    1.000000             1.000000          2.000000   \n",
       "50%                    1.000000             7.000000          4.000000   \n",
       "75%                    4.000000             7.000000          6.000000   \n",
       "max                   28.000000            25.000000         14.000000   \n",
       "\n",
       "       num_lab_procedures  num_procedures  num_medications  number_outpatient  \\\n",
       "count       101766.000000   101766.000000    101766.000000      101766.000000   \n",
       "mean            43.095641        1.339730        16.021844           0.369357   \n",
       "std             19.674362        1.705807         8.127566           1.267265   \n",
       "min              1.000000        0.000000         1.000000           0.000000   \n",
       "25%             31.000000        0.000000        10.000000           0.000000   \n",
       "50%             44.000000        1.000000        15.000000           0.000000   \n",
       "75%             57.000000        2.000000        20.000000           0.000000   \n",
       "max            132.000000        6.000000        81.000000          42.000000   \n",
       "\n",
       "       number_emergency  number_inpatient  number_diagnoses  \n",
       "count     101766.000000     101766.000000     101766.000000  \n",
       "mean           0.197836          0.635566          7.422607  \n",
       "std            0.930472          1.262863          1.933600  \n",
       "min            0.000000          0.000000          1.000000  \n",
       "25%            0.000000          0.000000          6.000000  \n",
       "50%            0.000000          0.000000          8.000000  \n",
       "75%            0.000000          1.000000          9.000000  \n",
       "max           76.000000         21.000000         16.000000  "
      ]
     },
     "execution_count": 6,
     "metadata": {},
     "output_type": "execute_result"
    }
   ],
   "source": [
    "data.describe()"
   ]
  },
  {
   "cell_type": "markdown",
   "metadata": {},
   "source": [
    "#### Numeric columns have no NULL values"
   ]
  },
  {
   "cell_type": "markdown",
   "metadata": {},
   "source": [
    "#### Missing information is represented by '?' in few columns of dtype 'object'\n",
    "#### Counting number of rows with missing information i.e., '?' in each column"
   ]
  },
  {
   "cell_type": "code",
   "execution_count": 7,
   "metadata": {
    "scrolled": true
   },
   "outputs": [
    {
     "name": "stdout",
     "output_type": "stream",
     "text": [
      "race 2273\n",
      "gender 0\n",
      "age 0\n",
      "weight 98569\n",
      "payer_code 40256\n",
      "medical_specialty 49949\n",
      "diag_1 21\n",
      "diag_2 358\n",
      "diag_3 1423\n",
      "max_glu_serum 0\n",
      "A1Cresult 0\n",
      "metformin 0\n",
      "repaglinide 0\n",
      "nateglinide 0\n",
      "chlorpropamide 0\n",
      "glimepiride 0\n",
      "acetohexamide 0\n",
      "glipizide 0\n",
      "glyburide 0\n",
      "tolbutamide 0\n",
      "pioglitazone 0\n",
      "rosiglitazone 0\n",
      "acarbose 0\n",
      "miglitol 0\n",
      "troglitazone 0\n",
      "tolazamide 0\n",
      "examide 0\n",
      "citoglipton 0\n",
      "insulin 0\n",
      "glyburide-metformin 0\n",
      "glipizide-metformin 0\n",
      "glimepiride-pioglitazone 0\n",
      "metformin-rosiglitazone 0\n",
      "metformin-pioglitazone 0\n",
      "change 0\n",
      "diabetesMed 0\n",
      "readmitted 0\n"
     ]
    }
   ],
   "source": [
    "for column in data.columns:\n",
    "    if data[column].dtype == object:\n",
    "        print(column,data[column][data[column]== '?'].count())    "
   ]
  },
  {
   "cell_type": "markdown",
   "metadata": {},
   "source": [
    "#### Dropping columns 'encounter_id', 'patient_nbr' ,'payer_code' that are unnecessary for the model\n",
    "#### Dropping columns 'weight','medical_specialty' whose values are '?' above  90% and 40% respectively "
   ]
  },
  {
   "cell_type": "code",
   "execution_count": 8,
   "metadata": {},
   "outputs": [],
   "source": [
    "data.drop(['encounter_id', 'patient_nbr', 'weight','medical_specialty', 'payer_code','admission_source_id' ], axis=1, inplace= True)"
   ]
  },
  {
   "cell_type": "code",
   "execution_count": 9,
   "metadata": {
    "scrolled": false
   },
   "outputs": [
    {
     "data": {
      "text/plain": [
       "Female             54708\n",
       "Male               47055\n",
       "Unknown/Invalid        3\n",
       "Name: gender, dtype: int64"
      ]
     },
     "execution_count": 9,
     "metadata": {},
     "output_type": "execute_result"
    }
   ],
   "source": [
    "data['gender'].value_counts()"
   ]
  },
  {
   "cell_type": "markdown",
   "metadata": {},
   "source": [
    "#### Removing 3 rows with gender values 'Unknown/Invalid'"
   ]
  },
  {
   "cell_type": "code",
   "execution_count": 10,
   "metadata": {},
   "outputs": [],
   "source": [
    "data = data[data.gender != 'Unknown/Invalid']"
   ]
  },
  {
   "cell_type": "markdown",
   "metadata": {},
   "source": [
    "#### Removing rows with discharge_disposition_id 11,19,20,21 which belong to category \"Expired\" and id 7 which is of patients that left against medical advice"
   ]
  },
  {
   "cell_type": "code",
   "execution_count": 11,
   "metadata": {},
   "outputs": [],
   "source": [
    "data = data[(data.discharge_disposition_id != 11) & (data.discharge_disposition_id != 19) & (data.discharge_disposition_id != 20) & (data.discharge_disposition_id != 21) & (data.discharge_disposition_id != 7) ]"
   ]
  },
  {
   "cell_type": "markdown",
   "metadata": {},
   "source": [
    "#### Removing rows with missing information in all 3 diagnosis"
   ]
  },
  {
   "cell_type": "code",
   "execution_count": 12,
   "metadata": {},
   "outputs": [],
   "source": [
    "data = data[(data.diag_1 != '?') | (data.diag_2 != '?') | (data.diag_3 != '?')]"
   ]
  },
  {
   "cell_type": "markdown",
   "metadata": {},
   "source": [
    "#### Dropping all columns related to medicines except insulin,metformin,glimepiride,repaglinide,pioglitazone,acarbose,glipizide, glyburide ,nateglinide (which is widely used diabetic medicine) as there is a column \"diabetesMed\" which tells if a patient is using diabetes medicine or not"
   ]
  },
  {
   "cell_type": "code",
   "execution_count": 13,
   "metadata": {},
   "outputs": [],
   "source": [
    "data.drop(['chlorpropamide','acetohexamide', 'tolbutamide', 'rosiglitazone', 'miglitol', 'troglitazone', 'tolazamide', 'examide', 'citoglipton',\n",
    "       'glyburide-metformin', 'glipizide-metformin','glimepiride-pioglitazone', 'metformin-rosiglitazone','metformin-pioglitazone'],axis=1, inplace= True)"
   ]
  },
  {
   "cell_type": "markdown",
   "metadata": {},
   "source": [
    "##### Dropping columns diag_1, diag_2, diag_3 because insufficiet information"
   ]
  },
  {
   "cell_type": "code",
   "execution_count": 14,
   "metadata": {},
   "outputs": [],
   "source": [
    "data.drop(['diag_1','diag_2','diag_3'], axis=1, inplace= True)"
   ]
  },
  {
   "cell_type": "code",
   "execution_count": 15,
   "metadata": {},
   "outputs": [
    {
     "data": {
      "text/plain": [
       "Caucasian          74418\n",
       "AfricanAmerican    18744\n",
       "?                   2225\n",
       "Hispanic            2001\n",
       "Other               1471\n",
       "Asian                628\n",
       "Name: race, dtype: int64"
      ]
     },
     "execution_count": 15,
     "metadata": {},
     "output_type": "execute_result"
    }
   ],
   "source": [
    "data.race.value_counts()"
   ]
  },
  {
   "cell_type": "markdown",
   "metadata": {},
   "source": [
    "#### Replacing '?' with NA and considering NA as a category"
   ]
  },
  {
   "cell_type": "code",
   "execution_count": 16,
   "metadata": {},
   "outputs": [],
   "source": [
    "data[\"Race\"]= data[\"race\"].map(lambda x:'NA' if x=='?' else x)\n",
    "data.drop(['race'], axis=1, inplace= True)"
   ]
  },
  {
   "cell_type": "markdown",
   "metadata": {},
   "source": [
    "#### admission_type_ids 1,2,7 are grouped as Non-Elective category 3,4 as Elective category and other ids which fall under missing information are grouped as 'NA'"
   ]
  },
  {
   "cell_type": "code",
   "execution_count": 17,
   "metadata": {
    "scrolled": true
   },
   "outputs": [],
   "source": [
    "def get_fn(row):\n",
    "    if row['admission_type_id']==1 or row['admission_type_id']==2 or row['admission_type_id']==7 :\n",
    "        return \"Non ELective\"\n",
    "    elif row['admission_type_id']==3 or row['admission_type_id']==4:\n",
    "        return \"Elective\"\n",
    "    else :\n",
    "        return \"NA\"\n",
    "data['admission_type']= data.apply(get_fn,axis=1)\n",
    "data.drop(['admission_type_id'], axis=1, inplace= True)"
   ]
  },
  {
   "cell_type": "code",
   "execution_count": 18,
   "metadata": {},
   "outputs": [
    {
     "data": {
      "text/plain": [
       "NO     52896\n",
       ">30    35324\n",
       "<30    11267\n",
       "Name: readmitted, dtype: int64"
      ]
     },
     "execution_count": 18,
     "metadata": {},
     "output_type": "execute_result"
    }
   ],
   "source": [
    "data.readmitted.value_counts()"
   ]
  },
  {
   "cell_type": "markdown",
   "metadata": {},
   "source": [
    "#### Our target is to reduce readmission <30. So considering >30 and NO as 0 and <30 as 1"
   ]
  },
  {
   "cell_type": "code",
   "execution_count": 19,
   "metadata": {},
   "outputs": [],
   "source": [
    "def fn(x):\n",
    "    if x =='NO' or x=='>30':\n",
    "        return 0\n",
    "    else :\n",
    "        return 1\n",
    "data['readmit']= data['readmitted'].map(fn)\n",
    "data.drop(['readmitted'], axis=1, inplace= True)"
   ]
  },
  {
   "cell_type": "code",
   "execution_count": 20,
   "metadata": {},
   "outputs": [
    {
     "data": {
      "text/plain": [
       "None    82781\n",
       ">8       8056\n",
       "Norm     4894\n",
       ">7       3756\n",
       "Name: A1Cresult, dtype: int64"
      ]
     },
     "execution_count": 20,
     "metadata": {},
     "output_type": "execute_result"
    }
   ],
   "source": [
    "data['A1Cresult'].value_counts()"
   ]
  },
  {
   "cell_type": "markdown",
   "metadata": {},
   "source": [
    "#### 'None' & 'Norm' of A1C is 0 and >8,>7 is 1"
   ]
  },
  {
   "cell_type": "code",
   "execution_count": 21,
   "metadata": {},
   "outputs": [],
   "source": [
    "def fun(z):\n",
    "    if z =='None' or z=='Norm':\n",
    "        return 1\n",
    "    else :\n",
    "        return 0\n",
    "data['A1C']= data['A1Cresult'].map(fun)\n",
    "data.drop(['A1Cresult'], axis=1, inplace= True)"
   ]
  },
  {
   "cell_type": "markdown",
   "metadata": {},
   "source": [
    "#### Dividing age groups in to three categories 'young','mid','old'"
   ]
  },
  {
   "cell_type": "code",
   "execution_count": 22,
   "metadata": {},
   "outputs": [],
   "source": [
    "def gt_ag(a):\n",
    "    if a =='[0-10)' or a=='[10-20)' or a=='[20-30)':\n",
    "        return 'young'\n",
    "    elif a =='[30-40)' or a=='[40-50)' or a=='[50-60)':\n",
    "        return 'mid'\n",
    "    else:\n",
    "        return'old'\n",
    "data['Age']= data['age'].map(gt_ag)\n",
    "data.drop(['age'], axis=1, inplace= True)"
   ]
  },
  {
   "cell_type": "code",
   "execution_count": 23,
   "metadata": {},
   "outputs": [
    {
     "data": {
      "text/plain": [
       "None    94304\n",
       "Norm     2553\n",
       ">200     1431\n",
       ">300     1199\n",
       "Name: max_glu_serum, dtype: int64"
      ]
     },
     "execution_count": 23,
     "metadata": {},
     "output_type": "execute_result"
    }
   ],
   "source": [
    "data['max_glu_serum'].value_counts()"
   ]
  },
  {
   "cell_type": "markdown",
   "metadata": {},
   "source": [
    "#### 'None' & 'Norm' of max_glu_serum is 0 and >200,>300 is 1"
   ]
  },
  {
   "cell_type": "code",
   "execution_count": 24,
   "metadata": {},
   "outputs": [],
   "source": [
    "data['max_glu_serum']=data['max_glu_serum'].replace('None',0)\n",
    "data['max_glu_serum']=data['max_glu_serum'].replace('Norm',0)\n",
    "data['max_glu_serum']=data['max_glu_serum'].replace('>200',1)\n",
    "data['max_glu_serum']=data['max_glu_serum'].replace('>300',1)"
   ]
  },
  {
   "cell_type": "markdown",
   "metadata": {},
   "source": [
    "#### Dividing discharge_disposition_id to three values \"Discharged Home\", \"NA\", \"Discharged/Transferred\""
   ]
  },
  {
   "cell_type": "code",
   "execution_count": 25,
   "metadata": {},
   "outputs": [],
   "source": [
    "def dp_id(a):\n",
    "    if a ==6 or a==8 or a==9 or a==13 or a==1:\n",
    "        return 'Discharged Home'\n",
    "    elif a==18 or a ==25 or a==26 :\n",
    "        return 'NA'\n",
    "    else:\n",
    "        return'Discharged/Transferred'\n",
    "data['discharge']= data['discharge_disposition_id'].map(dp_id)\n",
    "data.drop(['discharge_disposition_id'], axis=1, inplace= True)"
   ]
  },
  {
   "cell_type": "markdown",
   "metadata": {},
   "source": [
    "# Visualizations"
   ]
  },
  {
   "cell_type": "code",
   "execution_count": 26,
   "metadata": {},
   "outputs": [],
   "source": [
    "import matplotlib.pyplot as plt\n",
    "import seaborn as sns"
   ]
  },
  {
   "cell_type": "markdown",
   "metadata": {},
   "source": [
    "#### Plotting count of target variable 'readmit'"
   ]
  },
  {
   "cell_type": "code",
   "execution_count": 27,
   "metadata": {
    "scrolled": false
   },
   "outputs": [
    {
     "data": {
      "image/png": "[encoded data removed]",
      "text/plain": [
       "<Figure size 432x288 with 1 Axes>"
      ]
     },
     "metadata": {},
     "output_type": "display_data"
    }
   ],
   "source": [
    "sns.countplot(x='readmit',data=data, palette='hls')\n",
    "plt.savefig('admit-readmit')\n",
    "plt.show()"
   ]
  },
  {
   "cell_type": "code",
   "execution_count": 28,
   "metadata": {},
   "outputs": [
    {
     "name": "stdout",
     "output_type": "stream",
     "text": [
      "percentage of readmission 11.325097751465016\n",
      "percentage of no readmission 88.67490224853498\n"
     ]
    }
   ],
   "source": [
    "count_0 =len(data[data['readmit']==0])\n",
    "count_1 = len(data['readmit'])-count_0\n",
    "prctg_0 = count_0/len(data['readmit'])\n",
    "prctg_1 = count_1/len(data['readmit'])\n",
    "print(\"percentage of readmission\", prctg_1*100)\n",
    "print(\"percentage of no readmission\", prctg_0*100)"
   ]
  },
  {
   "cell_type": "markdown",
   "metadata": {},
   "source": [
    "#### There no balance in the ratio of values of target variable 'readmit'"
   ]
  },
  {
   "cell_type": "code",
   "execution_count": 29,
   "metadata": {},
   "outputs": [
    {
     "data": {
      "image/png": "[encoded data removed]",
      "text/plain": [
       "<Figure size 432x288 with 1 Axes>"
      ]
     },
     "metadata": {},
     "output_type": "display_data"
    }
   ],
   "source": [
    "pd.crosstab(data.diabetesMed,data.readmit).plot(kind='bar')\n",
    "plt.title('diabetesMed Vs readmit')\n",
    "plt.xlabel('diabetesMed')\n",
    "plt.ylabel('count of readmits')\n",
    "plt.savefig('diabetesMed vs readmit')"
   ]
  },
  {
   "cell_type": "code",
   "execution_count": 30,
   "metadata": {},
   "outputs": [
    {
     "data": {
      "image/png": "[encoded data removed]",
      "text/plain": [
       "<Figure size 432x288 with 1 Axes>"
      ]
     },
     "metadata": {},
     "output_type": "display_data"
    }
   ],
   "source": [
    "pd.crosstab(data.Age,data.readmit).plot(kind='line')\n",
    "plt.title('Age Vs readmit')\n",
    "plt.xlabel('Age')\n",
    "plt.ylabel('count of readmits')\n",
    "plt.savefig('Age vs readmit')"
   ]
  },
  {
   "cell_type": "code",
   "execution_count": 31,
   "metadata": {
    "scrolled": true
   },
   "outputs": [
    {
     "data": {
      "image/png": "[encoded data removed]",
      "text/plain": [
       "<Figure size 432x288 with 1 Axes>"
      ]
     },
     "metadata": {},
     "output_type": "display_data"
    }
   ],
   "source": [
    "pd.crosstab(data.gender,data.readmit).plot(kind='bar')\n",
    "plt.title('gender Vs readmit')\n",
    "plt.xlabel('gender')\n",
    "plt.ylabel('count of readmits')\n",
    "plt.savefig('gender vs readmit')"
   ]
  },
  {
   "cell_type": "markdown",
   "metadata": {},
   "source": [
    "#### Gender doesn't seem to add much value to readmission rate"
   ]
  },
  {
   "cell_type": "markdown",
   "metadata": {},
   "source": [
    "#### There might be more chance for patients under diabetes medication to readmit than those who are not uder medication"
   ]
  },
  {
   "cell_type": "markdown",
   "metadata": {},
   "source": [
    "#### Creating dummy encoded columns for categorical vaiables\n",
    "#### To avoid dummy variable trap i.e., scenario of highly correlated independent variables we have to drop one of the created dummy variable. The Original column should also be dropped as we have dummies"
   ]
  },
  {
   "cell_type": "code",
   "execution_count": 32,
   "metadata": {},
   "outputs": [],
   "source": [
    "dummy_metformin = pd.get_dummies(data['metformin'], prefix='metformin')\n",
    "data= data.join(dummy_metformin.drop(\"metformin_No\", axis=1))\n",
    "data.drop(['metformin'], axis=1, inplace= True)"
   ]
  },
  {
   "cell_type": "code",
   "execution_count": 33,
   "metadata": {},
   "outputs": [],
   "source": [
    "dummy_repaglinide = pd.get_dummies(data['repaglinide'], prefix='repaglinide')\n",
    "data= data.join(dummy_repaglinide.drop(\"repaglinide_No\", axis=1))\n",
    "data.drop(['repaglinide'], axis=1, inplace= True)"
   ]
  },
  {
   "cell_type": "code",
   "execution_count": 34,
   "metadata": {},
   "outputs": [],
   "source": [
    "dummy_insulin = pd.get_dummies(data['insulin'], prefix='insulin')\n",
    "data= data.join(dummy_insulin.drop(\"insulin_No\", axis=1))\n",
    "data.drop(['insulin'], axis=1, inplace= True)"
   ]
  },
  {
   "cell_type": "code",
   "execution_count": 35,
   "metadata": {},
   "outputs": [],
   "source": [
    "dummy_nateglinide = pd.get_dummies(data['nateglinide'], prefix='nateglinide')\n",
    "data= data.join(dummy_nateglinide.drop(\"nateglinide_No\", axis=1))\n",
    "data.drop(['nateglinide'], axis=1, inplace= True)"
   ]
  },
  {
   "cell_type": "code",
   "execution_count": 36,
   "metadata": {},
   "outputs": [],
   "source": [
    "dummy_glimepiride = pd.get_dummies(data['glimepiride'], prefix='glimepiride')\n",
    "data= data.join(dummy_glimepiride.drop(\"glimepiride_No\", axis=1))\n",
    "data.drop(['glimepiride'], axis=1, inplace= True)"
   ]
  },
  {
   "cell_type": "code",
   "execution_count": 37,
   "metadata": {},
   "outputs": [],
   "source": [
    "dummy_glipizide = pd.get_dummies(data['glipizide'], prefix='glipizide')\n",
    "data= data.join(dummy_glipizide.drop(\"glipizide_No\", axis=1))\n",
    "data.drop(['glipizide'], axis=1, inplace= True)"
   ]
  },
  {
   "cell_type": "code",
   "execution_count": 38,
   "metadata": {},
   "outputs": [],
   "source": [
    "dummy_glyburide = pd.get_dummies(data['glyburide'], prefix='glyburide')\n",
    "data= data.join(dummy_glyburide.drop(\"glyburide_No\", axis=1))\n",
    "data.drop(['glyburide'], axis=1, inplace= True)"
   ]
  },
  {
   "cell_type": "code",
   "execution_count": 39,
   "metadata": {},
   "outputs": [],
   "source": [
    "dummy_pioglitazone = pd.get_dummies(data['pioglitazone'], prefix='pioglitazone')\n",
    "data= data.join(dummy_pioglitazone.drop(\"pioglitazone_No\", axis=1))\n",
    "data.drop(['pioglitazone'], axis=1, inplace= True)"
   ]
  },
  {
   "cell_type": "code",
   "execution_count": 40,
   "metadata": {},
   "outputs": [],
   "source": [
    "dummy_acarbose = pd.get_dummies(data['acarbose'], prefix='acarbose')\n",
    "data= data.join(dummy_acarbose.drop(\"acarbose_No\", axis=1))\n",
    "data.drop(['acarbose'], axis=1, inplace= True)"
   ]
  },
  {
   "cell_type": "code",
   "execution_count": 41,
   "metadata": {},
   "outputs": [],
   "source": [
    "dummy_gender = pd.get_dummies(data['gender'], prefix='gender')\n",
    "data= data.join(dummy_gender.drop(\"gender_Female\", axis=1))\n",
    "data.drop(['gender'], axis=1, inplace= True)"
   ]
  },
  {
   "cell_type": "code",
   "execution_count": 42,
   "metadata": {},
   "outputs": [],
   "source": [
    "dummy_admission = pd.get_dummies(data['admission_type'], prefix='admission')\n",
    "data= data.join(dummy_admission.drop(\"admission_NA\", axis=1))\n",
    "data.drop(['admission_type'], axis=1, inplace= True)"
   ]
  },
  {
   "cell_type": "code",
   "execution_count": 43,
   "metadata": {},
   "outputs": [],
   "source": [
    "dummy_change = pd.get_dummies(data['change'], prefix='change')\n",
    "data= data.join(dummy_change.drop(\"change_Ch\", axis=1))\n",
    "data.drop(['change'], axis=1, inplace= True)"
   ]
  },
  {
   "cell_type": "code",
   "execution_count": 44,
   "metadata": {},
   "outputs": [],
   "source": [
    "dummy_Age = pd.get_dummies(data['Age'], prefix='Age')\n",
    "data= data.join(dummy_Age.drop(\"Age_mid\", axis=1))\n",
    "data.drop(['Age'], axis=1, inplace= True)"
   ]
  },
  {
   "cell_type": "code",
   "execution_count": 45,
   "metadata": {},
   "outputs": [],
   "source": [
    "dummy_diabetesMed = pd.get_dummies(data['diabetesMed'], prefix='diabetesMed')\n",
    "data= data.join(dummy_diabetesMed.drop(\"diabetesMed_No\", axis=1))\n",
    "data.drop(['diabetesMed'], axis=1, inplace= True)"
   ]
  },
  {
   "cell_type": "code",
   "execution_count": 46,
   "metadata": {},
   "outputs": [],
   "source": [
    "dummy_race = pd.get_dummies(data['Race'], prefix='Race')\n",
    "data= data.join(dummy_race.drop(\"Race_Other\", axis=1))\n",
    "data.drop(['Race'], axis=1, inplace= True)"
   ]
  },
  {
   "cell_type": "code",
   "execution_count": 47,
   "metadata": {},
   "outputs": [
    {
     "data": {
      "text/plain": [
       "Discharged Home           73661\n",
       "Discharged/Transferred    21146\n",
       "NA                         4680\n",
       "Name: discharge, dtype: int64"
      ]
     },
     "execution_count": 47,
     "metadata": {},
     "output_type": "execute_result"
    }
   ],
   "source": [
    "data.discharge.value_counts()"
   ]
  },
  {
   "cell_type": "code",
   "execution_count": 48,
   "metadata": {},
   "outputs": [],
   "source": [
    "dummy_discharge = pd.get_dummies(data['discharge'], prefix='discharge')\n",
    "data= data.join(dummy_discharge.drop(\"discharge_NA\", axis=1))\n",
    "data.drop(['discharge'], axis=1, inplace= True)"
   ]
  },
  {
   "cell_type": "markdown",
   "metadata": {},
   "source": [
    "# Logistic Regression Model"
   ]
  },
  {
   "cell_type": "code",
   "execution_count": 49,
   "metadata": {},
   "outputs": [],
   "source": [
    "from sklearn.model_selection import train_test_split\n",
    "import statsmodels.api as sm"
   ]
  },
  {
   "cell_type": "markdown",
   "metadata": {},
   "source": [
    "#### Splitting the data set into Test and Train data¶"
   ]
  },
  {
   "cell_type": "code",
   "execution_count": 50,
   "metadata": {},
   "outputs": [],
   "source": [
    "X_train, X_test, Y_train, Y_test = train_test_split(data.drop('readmit', axis=1), data['readmit'], test_size=0.2, random_state=12)"
   ]
  },
  {
   "cell_type": "markdown",
   "metadata": {},
   "source": [
    "#### Adding constant to Train data"
   ]
  },
  {
   "cell_type": "code",
   "execution_count": 51,
   "metadata": {},
   "outputs": [],
   "source": [
    "X_train = sm.add_constant(X_train)"
   ]
  },
  {
   "cell_type": "code",
   "execution_count": 52,
   "metadata": {},
   "outputs": [
    {
     "data": {
      "text/plain": [
       "(19898, 51)"
      ]
     },
     "execution_count": 52,
     "metadata": {},
     "output_type": "execute_result"
    }
   ],
   "source": [
    "X_test.shape"
   ]
  },
  {
   "cell_type": "code",
   "execution_count": 53,
   "metadata": {},
   "outputs": [
    {
     "data": {
      "text/plain": [
       "(79589, 52)"
      ]
     },
     "execution_count": 53,
     "metadata": {},
     "output_type": "execute_result"
    }
   ],
   "source": [
    "X_train.shape"
   ]
  },
  {
   "cell_type": "markdown",
   "metadata": {},
   "source": [
    "#### Fitting Logistic Regression Model to data"
   ]
  },
  {
   "cell_type": "code",
   "execution_count": 54,
   "metadata": {
    "scrolled": true
   },
   "outputs": [
    {
     "name": "stdout",
     "output_type": "stream",
     "text": [
      "                            Results: Generalized linear model\n",
      "==========================================================================================\n",
      "Model:                       GLM                      AIC:                    54001.8256  \n",
      "Link Function:               logit                    BIC:                    -843647.8839\n",
      "Dependent Variable:          readmit                  Log-Likelihood:         -26949.     \n",
      "Date:                        2018-11-23 13:56         LL-Null:                -28156.     \n",
      "No. Observations:            79589                    Deviance:               53898.      \n",
      "Df Model:                    51                       Pearson chi2:           7.83e+04    \n",
      "Df Residuals:                79537                    Scale:                  1.0000      \n",
      "Method:                      IRLS                                                         \n",
      "------------------------------------------------------------------------------------------\n",
      "                                  Coef.   Std.Err.     z     P>|z|     [0.025     0.975]  \n",
      "------------------------------------------------------------------------------------------\n",
      "const                            -3.0207     0.1420 -21.2718 0.0000     -3.2990    -2.7424\n",
      "time_in_hospital                  0.0058     0.0044   1.3139 0.1889     -0.0029     0.0145\n",
      "num_lab_procedures                0.0014     0.0007   2.0845 0.0371      0.0001     0.0027\n",
      "num_procedures                   -0.0095     0.0077  -1.2272 0.2198     -0.0247     0.0057\n",
      "num_medications                   0.0048     0.0018   2.6492 0.0081      0.0013     0.0084\n",
      "number_outpatient                -0.0007     0.0085  -0.0837 0.9333     -0.0173     0.0159\n",
      "number_emergency                  0.0419     0.0098   4.2784 0.0000      0.0227     0.0611\n",
      "number_inpatient                  0.2685     0.0074  36.4561 0.0000      0.2541     0.2829\n",
      "number_diagnoses                  0.0267     0.0068   3.8954 0.0001      0.0132     0.0401\n",
      "max_glu_serum                     0.0871     0.0733   1.1888 0.2345     -0.0565     0.2308\n",
      "A1C                               0.0867     0.0382   2.2712 0.0231      0.0119     0.1616\n",
      "metformin_Down                    0.1444     0.1440   1.0031 0.3158     -0.1378     0.4266\n",
      "metformin_Steady                 -0.1400     0.0365  -3.8315 0.0001     -0.2115    -0.0684\n",
      "metformin_Up                     -0.3564     0.1321  -2.6987 0.0070     -0.6152    -0.0976\n",
      "repaglinide_Down                 -0.5406     0.6082  -0.8889 0.3741     -1.7326     0.6514\n",
      "repaglinide_Steady               -0.0652     0.0948  -0.6878 0.4916     -0.2509     0.1206\n",
      "repaglinide_Up                    0.4686     0.2820   1.6617 0.0966     -0.0841     1.0214\n",
      "insulin_Down                      0.1066     0.0580   1.8386 0.0660     -0.0070     0.2201\n",
      "insulin_Steady                   -0.0305     0.0374  -0.8141 0.4156     -0.1038     0.0429\n",
      "insulin_Up                        0.0084     0.0590   0.1420 0.8871     -0.1073     0.1240\n",
      "nateglinide_Down                 -0.0280     1.0641  -0.0263 0.9790     -2.1136     2.0576\n",
      "nateglinide_Steady                0.1275     0.1353   0.9418 0.3463     -0.1378     0.3927\n",
      "nateglinide_Up                   -1.0608     1.0349  -1.0250 0.3054     -3.0891     0.9676\n",
      "glimepiride_Down                  0.1228     0.2363   0.5197 0.6032     -0.3403     0.5859\n",
      "glimepiride_Steady               -0.1414     0.0602  -2.3491 0.0188     -0.2593    -0.0234\n",
      "glimepiride_Up                   -0.0570     0.2014  -0.2827 0.7774     -0.4518     0.3379\n",
      "glipizide_Down                    0.2758     0.1374   2.0068 0.0448      0.0064     0.5451\n",
      "glipizide_Steady                 -0.0031     0.0418  -0.0737 0.9412     -0.0849     0.0788\n",
      "glipizide_Up                      0.0484     0.1310   0.3698 0.7116     -0.2083     0.3051\n",
      "glyburide_Down                   -0.1976     0.1623  -1.2180 0.2232     -0.5157     0.1204\n",
      "glyburide_Steady                 -0.0466     0.0460  -1.0139 0.3106     -0.1367     0.0435\n",
      "glyburide_Up                     -0.0043     0.1304  -0.0326 0.9740     -0.2598     0.2513\n",
      "pioglitazone_Down                 0.1784     0.2977   0.5991 0.5491     -0.4051     0.7618\n",
      "pioglitazone_Steady              -0.0775     0.0487  -1.5931 0.1111     -0.1729     0.0179\n",
      "pioglitazone_Up                   0.0853     0.2230   0.3824 0.7022     -0.3518     0.5223\n",
      "acarbose_Down                    21.5720 17730.3698   0.0012 0.9990 -34729.3142 34772.4582\n",
      "acarbose_Steady                  -0.3927     0.2371  -1.6562 0.0977     -0.8574     0.0720\n",
      "acarbose_Up                       0.8198     0.7995   1.0254 0.3052     -0.7471     2.3867\n",
      "gender_Male                       0.0441     0.0231   1.9099 0.0561     -0.0012     0.0894\n",
      "admission_Elective                0.0593     0.0491   1.2076 0.2272     -0.0370     0.1557\n",
      "admission_Non ELective            0.0595     0.0426   1.3972 0.1624     -0.0240     0.1429\n",
      "change_No                         0.0146     0.0415   0.3512 0.7254     -0.0668     0.0959\n",
      "Age_old                           0.1132     0.0273   4.1396 0.0000      0.0596     0.1667\n",
      "Age_young                         0.0122     0.0820   0.1486 0.8818     -0.1485     0.1729\n",
      "diabetesMed_Yes                   0.2598     0.0424   6.1242 0.0000      0.1767     0.3430\n",
      "Race_AfricanAmerican              0.1385     0.1054   1.3131 0.1892     -0.0682     0.3451\n",
      "Race_Asian                        0.1004     0.1825   0.5504 0.5820     -0.2572     0.4581\n",
      "Race_Caucasian                    0.1261     0.1029   1.2258 0.2203     -0.0755     0.3278\n",
      "Race_Hispanic                     0.1705     0.1306   1.3051 0.1918     -0.0855     0.4265\n",
      "Race_NA                          -0.0538     0.1332  -0.4038 0.6863     -0.3148     0.2072\n",
      "discharge_Discharged Home        -0.2886     0.0542  -5.3299 0.0000     -0.3947    -0.1825\n",
      "discharge_Discharged/Transferred  0.1961     0.0569   3.4484 0.0006      0.0846     0.3075\n",
      "==========================================================================================\n",
      "\n"
     ]
    }
   ],
   "source": [
    "model= sm.GLM(Y_train, X_train, family=sm.families.Binomial()).fit()\n",
    "print(model.summary2())"
   ]
  },
  {
   "cell_type": "markdown",
   "metadata": {},
   "source": [
    "#### STEP WISE REGRESSION - Back ward Elimination\n",
    "\n",
    "#### Step wise removal of variables that are not significant i.e., in our case variables with P > 0.05"
   ]
  },
  {
   "cell_type": "code",
   "execution_count": 55,
   "metadata": {},
   "outputs": [
    {
     "name": "stdout",
     "output_type": "stream",
     "text": [
      "                            Results: Generalized linear model\n",
      "==========================================================================================\n",
      "Model:                       GLM                      AIC:                    53998.1584  \n",
      "Link Function:               logit                    BIC:                    -843679.4049\n",
      "Dependent Variable:          readmit                  Log-Likelihood:         -26950.     \n",
      "Date:                        2018-11-23 13:57         LL-Null:                -28156.     \n",
      "No. Observations:            79589                    Deviance:               53900.      \n",
      "Df Model:                    48                       Pearson chi2:           7.83e+04    \n",
      "Df Residuals:                79540                    Scale:                  1.0000      \n",
      "Method:                      IRLS                                                         \n",
      "------------------------------------------------------------------------------------------\n",
      "                                  Coef.   Std.Err.     z     P>|z|     [0.025     0.975]  \n",
      "------------------------------------------------------------------------------------------\n",
      "const                            -3.0420     0.1408 -21.6062 0.0000     -3.3180    -2.7661\n",
      "time_in_hospital                  0.0057     0.0044   1.2807 0.2003     -0.0030     0.0143\n",
      "num_lab_procedures                0.0014     0.0007   2.0738 0.0381      0.0001     0.0027\n",
      "num_procedures                   -0.0095     0.0077  -1.2241 0.2209     -0.0246     0.0057\n",
      "num_medications                   0.0047     0.0018   2.6087 0.0091      0.0012     0.0083\n",
      "number_outpatient                -0.0006     0.0085  -0.0759 0.9395     -0.0172     0.0159\n",
      "number_emergency                  0.0419     0.0098   4.2786 0.0000      0.0227     0.0611\n",
      "number_inpatient                  0.2688     0.0074  36.5074 0.0000      0.2543     0.2832\n",
      "number_diagnoses                  0.0269     0.0068   3.9255 0.0001      0.0134     0.0403\n",
      "max_glu_serum                     0.0860     0.0733   1.1736 0.2406     -0.0576     0.2297\n",
      "A1C                               0.0877     0.0382   2.2972 0.0216      0.0129     0.1625\n",
      "metformin_Down                    0.1445     0.1438   1.0047 0.3151     -0.1374     0.4263\n",
      "metformin_Steady                 -0.1329     0.0360  -3.6908 0.0002     -0.2035    -0.0623\n",
      "metformin_Up                     -0.3496     0.1319  -2.6511 0.0080     -0.6081    -0.0911\n",
      "repaglinide_Down                 -0.5221     0.6080  -0.8587 0.3905     -1.7138     0.6696\n",
      "repaglinide_Steady               -0.0531     0.0942  -0.5632 0.5733     -0.2377     0.1316\n",
      "repaglinide_Up                    0.4818     0.2818   1.7096 0.0873     -0.0706     1.0341\n",
      "insulin_Down                      0.1366     0.0522   2.6172 0.0089      0.0343     0.2389\n",
      "insulin_Steady                   -0.0145     0.0350  -0.4140 0.6789     -0.0830     0.0540\n",
      "insulin_Up                        0.0380     0.0535   0.7113 0.4769     -0.0668     0.1428\n",
      "nateglinide_Down                 -0.0075     1.0639  -0.0071 0.9944     -2.0927     2.0776\n",
      "nateglinide_Steady                0.1401     0.1349   1.0386 0.2990     -0.1243     0.4045\n",
      "nateglinide_Up                   -1.0454     1.0350  -1.0100 0.3125     -3.0740     0.9833\n",
      "glimepiride_Down                  0.1448     0.2356   0.6144 0.5390     -0.3170     0.6066\n",
      "glimepiride_Steady               -0.1258     0.0587  -2.1420 0.0322     -0.2409    -0.0107\n",
      "glimepiride_Up                   -0.0368     0.2007  -0.1834 0.8545     -0.4302     0.3566\n",
      "glipizide_Down                    0.2981     0.1362   2.1892 0.0286      0.0312     0.5649\n",
      "glipizide_Steady                  0.0138     0.0392   0.3511 0.7255     -0.0631     0.0906\n",
      "glipizide_Up                      0.0687     0.1299   0.5290 0.5968     -0.1858     0.3232\n",
      "pioglitazone_Down                 0.1843     0.2975   0.6196 0.5355     -0.3987     0.7674\n",
      "pioglitazone_Steady              -0.0699     0.0482  -1.4498 0.1471     -0.1643     0.0246\n",
      "pioglitazone_Up                   0.0921     0.2229   0.4133 0.6794     -0.3448     0.5290\n",
      "acarbose_Down                    21.5635 17730.3698   0.0012 0.9990 -34729.3228 34772.4497\n",
      "acarbose_Steady                  -0.3858     0.2370  -1.6279 0.1035     -0.8504     0.0787\n",
      "acarbose_Up                       0.8258     0.7997   1.0325 0.3018     -0.7417     2.3933\n",
      "gender_Male                       0.0433     0.0231   1.8731 0.0610     -0.0020     0.0885\n",
      "admission_Elective                0.0589     0.0491   1.1980 0.2309     -0.0374     0.1552\n",
      "admission_Non ELective            0.0586     0.0425   1.3782 0.1682     -0.0248     0.1420\n",
      "change_No                         0.0343     0.0381   0.9012 0.3675     -0.0403     0.1090\n",
      "Age_old                           0.1112     0.0273   4.0750 0.0000      0.0577     0.1647\n",
      "Age_young                         0.0141     0.0820   0.1722 0.8633     -0.1465     0.1748\n",
      "diabetesMed_Yes                   0.2430     0.0398   6.0975 0.0000      0.1649     0.3211\n",
      "Race_AfricanAmerican              0.1395     0.1054   1.3230 0.1858     -0.0672     0.3461\n",
      "Race_Asian                        0.1002     0.1825   0.5493 0.5828     -0.2574     0.4579\n",
      "Race_Caucasian                    0.1265     0.1029   1.2299 0.2187     -0.0751     0.3282\n",
      "Race_Hispanic                     0.1714     0.1306   1.3123 0.1894     -0.0846     0.4274\n",
      "Race_NA                          -0.0535     0.1332  -0.4016 0.6880     -0.3145     0.2075\n",
      "discharge_Discharged Home        -0.2856     0.0541  -5.2805 0.0000     -0.3916    -0.1796\n",
      "discharge_Discharged/Transferred  0.1993     0.0568   3.5099 0.0004      0.0880     0.3106\n",
      "==========================================================================================\n",
      "\n"
     ]
    }
   ],
   "source": [
    "X_train.drop(['glyburide_Up','glyburide_Down','glyburide_Steady'], axis=1, inplace=True)\n",
    "model= sm.GLM(Y_train, X_train, family=sm.families.Binomial()).fit()\n",
    "print(model.summary2())"
   ]
  },
  {
   "cell_type": "code",
   "execution_count": 56,
   "metadata": {},
   "outputs": [
    {
     "name": "stdout",
     "output_type": "stream",
     "text": [
      "                        Results: Generalized linear model\n",
      "=================================================================================\n",
      "Model:                    GLM                   AIC:                 53998.6267  \n",
      "Link Function:            logit                 BIC:                 -843706.7906\n",
      "Dependent Variable:       readmit               Log-Likelihood:      -26953.     \n",
      "Date:                     2018-11-23 13:57      LL-Null:             -28156.     \n",
      "No. Observations:         79589                 Deviance:            53907.      \n",
      "Df Model:                 45                    Pearson chi2:        7.83e+04    \n",
      "Df Residuals:             79543                 Scale:               1.0000      \n",
      "Method:                   IRLS                                                   \n",
      "---------------------------------------------------------------------------------\n",
      "                                  Coef.  Std.Err.    z     P>|z|   [0.025  0.975]\n",
      "---------------------------------------------------------------------------------\n",
      "const                            -3.0455   0.1408 -21.6338 0.0000 -3.3214 -2.7696\n",
      "time_in_hospital                  0.0056   0.0044   1.2722 0.2033 -0.0030  0.0143\n",
      "num_lab_procedures                0.0014   0.0007   2.1047 0.0353  0.0001  0.0027\n",
      "num_procedures                   -0.0093   0.0077  -1.2038 0.2287 -0.0245  0.0058\n",
      "num_medications                   0.0047   0.0018   2.5886 0.0096  0.0011  0.0083\n",
      "number_outpatient                -0.0008   0.0085  -0.0995 0.9208 -0.0174  0.0158\n",
      "number_emergency                  0.0420   0.0098   4.2807 0.0000  0.0227  0.0612\n",
      "number_inpatient                  0.2688   0.0074  36.5178 0.0000  0.2544  0.2832\n",
      "number_diagnoses                  0.0268   0.0068   3.9194 0.0001  0.0134  0.0402\n",
      "max_glu_serum                     0.0861   0.0733   1.1747 0.2401 -0.0576  0.2297\n",
      "A1C                               0.0877   0.0382   2.2963 0.0217  0.0128  0.1625\n",
      "metformin_Down                    0.1449   0.1438   1.0075 0.3137 -0.1369  0.4267\n",
      "metformin_Steady                 -0.1315   0.0360  -3.6531 0.0003 -0.2020 -0.0609\n",
      "metformin_Up                     -0.3471   0.1318  -2.6331 0.0085 -0.6055 -0.0887\n",
      "repaglinide_Down                 -0.5291   0.6079  -0.8703 0.3841 -1.7205  0.6624\n",
      "repaglinide_Steady               -0.0531   0.0942  -0.5632 0.5733 -0.2377  0.1316\n",
      "repaglinide_Up                    0.4835   0.2818   1.7158 0.0862 -0.0688  1.0358\n",
      "insulin_Down                      0.1404   0.0521   2.6938 0.0071  0.0383  0.2426\n",
      "insulin_Steady                   -0.0122   0.0349  -0.3501 0.7263 -0.0807  0.0562\n",
      "insulin_Up                        0.0423   0.0534   0.7920 0.4284 -0.0624  0.1470\n",
      "nateglinide_Down                 -0.0046   1.0639  -0.0043 0.9966 -2.0897  2.0806\n",
      "nateglinide_Steady                0.1410   0.1349   1.0456 0.2958 -0.1233  0.4054\n",
      "nateglinide_Up                   -1.0423   1.0351  -1.0070 0.3139 -3.0710  0.9864\n",
      "glimepiride_Down                  0.1474   0.2356   0.6255 0.5317 -0.3144  0.6092\n",
      "glimepiride_Steady               -0.1260   0.0587  -2.1464 0.0318 -0.2411 -0.0109\n",
      "glimepiride_Up                   -0.0398   0.2007  -0.1983 0.8428 -0.4331  0.3535\n",
      "glipizide_Down                    0.2981   0.1362   2.1895 0.0286  0.0313  0.5650\n",
      "glipizide_Steady                  0.0134   0.0392   0.3420 0.7324 -0.0634  0.0903\n",
      "glipizide_Up                      0.0735   0.1298   0.5660 0.5714 -0.1809  0.3279\n",
      "pioglitazone_Down                 0.1865   0.2975   0.6270 0.5307 -0.3965  0.7696\n",
      "pioglitazone_Steady              -0.0702   0.0482  -1.4570 0.1451 -0.1646  0.0242\n",
      "pioglitazone_Up                   0.0907   0.2229   0.4068 0.6842 -0.3462  0.5275\n",
      "gender_Male                       0.0430   0.0231   1.8620 0.0626 -0.0023  0.0883\n",
      "admission_Elective                0.0592   0.0491   1.2049 0.2283 -0.0371  0.1555\n",
      "admission_Non ELective            0.0588   0.0425   1.3820 0.1670 -0.0246  0.1422\n",
      "change_No                         0.0371   0.0380   0.9751 0.3295 -0.0375  0.1117\n",
      "Age_old                           0.1115   0.0273   4.0856 0.0000  0.0580  0.1650\n",
      "Age_young                         0.0140   0.0820   0.1709 0.8643 -0.1466  0.1747\n",
      "diabetesMed_Yes                   0.2413   0.0398   6.0579 0.0000  0.1632  0.3194\n",
      "Race_AfricanAmerican              0.1405   0.1054   1.3322 0.1828 -0.0662  0.3471\n",
      "Race_Asian                        0.1006   0.1825   0.5512 0.5815 -0.2571  0.4582\n",
      "Race_Caucasian                    0.1271   0.1029   1.2355 0.2166 -0.0745  0.3287\n",
      "Race_Hispanic                     0.1714   0.1306   1.3126 0.1893 -0.0846  0.4274\n",
      "Race_NA                          -0.0531   0.1332  -0.3987 0.6901 -0.3141  0.2079\n",
      "discharge_Discharged Home        -0.2859   0.0541  -5.2854 0.0000 -0.3919 -0.1799\n",
      "discharge_Discharged/Transferred  0.1993   0.0568   3.5090 0.0004  0.0880  0.3105\n",
      "=================================================================================\n",
      "\n"
     ]
    }
   ],
   "source": [
    "X_train.drop(['acarbose_Down','acarbose_Steady','acarbose_Up'], axis=1, inplace=True)\n",
    "model= sm.GLM(Y_train, X_train, family=sm.families.Binomial()).fit()\n",
    "print(model.summary2())"
   ]
  },
  {
   "cell_type": "code",
   "execution_count": 57,
   "metadata": {},
   "outputs": [
    {
     "name": "stdout",
     "output_type": "stream",
     "text": [
      "                        Results: Generalized linear model\n",
      "=================================================================================\n",
      "Model:                    GLM                   AIC:                 53995.0810  \n",
      "Link Function:            logit                 BIC:                 -843738.1902\n",
      "Dependent Variable:       readmit               Log-Likelihood:      -26955.     \n",
      "Date:                     2018-11-23 13:57      LL-Null:             -28156.     \n",
      "No. Observations:         79589                 Deviance:            53909.      \n",
      "Df Model:                 42                    Pearson chi2:        7.83e+04    \n",
      "Df Residuals:             79546                 Scale:               1.0000      \n",
      "Method:                   IRLS                                                   \n",
      "---------------------------------------------------------------------------------\n",
      "                                  Coef.  Std.Err.    z     P>|z|   [0.025  0.975]\n",
      "---------------------------------------------------------------------------------\n",
      "const                            -3.0445   0.1408 -21.6285 0.0000 -3.3204 -2.7686\n",
      "time_in_hospital                  0.0056   0.0044   1.2713 0.2036 -0.0030  0.0143\n",
      "num_lab_procedures                0.0014   0.0007   2.0885 0.0368  0.0001  0.0027\n",
      "num_procedures                   -0.0094   0.0077  -1.2143 0.2246 -0.0246  0.0058\n",
      "num_medications                   0.0047   0.0018   2.6024 0.0093  0.0012  0.0083\n",
      "number_outpatient                -0.0008   0.0085  -0.0975 0.9223 -0.0174  0.0158\n",
      "number_emergency                  0.0418   0.0098   4.2699 0.0000  0.0226  0.0609\n",
      "number_inpatient                  0.2687   0.0074  36.5170 0.0000  0.2543  0.2831\n",
      "number_diagnoses                  0.0269   0.0068   3.9264 0.0001  0.0135  0.0403\n",
      "max_glu_serum                     0.0858   0.0733   1.1707 0.2417 -0.0578  0.2294\n",
      "A1C                               0.0876   0.0382   2.2957 0.0217  0.0128  0.1624\n",
      "metformin_Down                    0.1434   0.1438   0.9977 0.3184 -0.1383  0.4252\n",
      "metformin_Steady                 -0.1325   0.0360  -3.6838 0.0002 -0.2030 -0.0620\n",
      "metformin_Up                     -0.3489   0.1318  -2.6471 0.0081 -0.6073 -0.0906\n",
      "repaglinide_Down                 -0.5311   0.6079  -0.8737 0.3823 -1.7226  0.6603\n",
      "repaglinide_Steady               -0.0542   0.0942  -0.5755 0.5650 -0.2388  0.1304\n",
      "repaglinide_Up                    0.4821   0.2818   1.7111 0.0871 -0.0701  1.0344\n",
      "insulin_Down                      0.1383   0.0520   2.6592 0.0078  0.0364  0.2402\n",
      "insulin_Steady                   -0.0133   0.0349  -0.3801 0.7038 -0.0816  0.0551\n",
      "insulin_Up                        0.0402   0.0533   0.7553 0.4501 -0.0642  0.1447\n",
      "glimepiride_Down                  0.1426   0.2355   0.6054 0.5449 -0.3190  0.6042\n",
      "glimepiride_Steady               -0.1266   0.0587  -2.1555 0.0311 -0.2416 -0.0115\n",
      "glimepiride_Up                   -0.0413   0.2007  -0.2056 0.8371 -0.4346  0.3521\n",
      "glipizide_Down                    0.2965   0.1361   2.1781 0.0294  0.0297  0.5633\n",
      "glipizide_Steady                  0.0120   0.0392   0.3061 0.7596 -0.0648  0.0887\n",
      "glipizide_Up                      0.0721   0.1298   0.5553 0.5787 -0.1823  0.3264\n",
      "pioglitazone_Down                 0.1874   0.2975   0.6298 0.5289 -0.3958  0.7705\n",
      "pioglitazone_Steady              -0.0708   0.0482  -1.4698 0.1416 -0.1652  0.0236\n",
      "pioglitazone_Up                   0.0784   0.2229   0.3517 0.7251 -0.3584  0.5152\n",
      "gender_Male                       0.0430   0.0231   1.8631 0.0625 -0.0022  0.0883\n",
      "admission_Elective                0.0599   0.0491   1.2189 0.2229 -0.0364  0.1562\n",
      "admission_Non ELective            0.0594   0.0425   1.3958 0.1628 -0.0240  0.1428\n",
      "change_No                         0.0354   0.0379   0.9333 0.3507 -0.0390  0.1098\n",
      "Age_old                           0.1119   0.0273   4.1019 0.0000  0.0585  0.1654\n",
      "Age_young                         0.0139   0.0820   0.1690 0.8658 -0.1468  0.1745\n",
      "diabetesMed_Yes                   0.2429   0.0398   6.1054 0.0000  0.1649  0.3208\n",
      "Race_AfricanAmerican              0.1401   0.1054   1.3292 0.1838 -0.0665  0.3468\n",
      "Race_Asian                        0.1005   0.1825   0.5507 0.5818 -0.2571  0.4581\n",
      "Race_Caucasian                    0.1262   0.1029   1.2264 0.2200 -0.0755  0.3278\n",
      "Race_Hispanic                     0.1708   0.1306   1.3081 0.1908 -0.0851  0.4268\n",
      "Race_NA                          -0.0550   0.1332  -0.4133 0.6794 -0.3160  0.2059\n",
      "discharge_Discharged Home        -0.2851   0.0541  -5.2717 0.0000 -0.3910 -0.1791\n",
      "discharge_Discharged/Transferred  0.2001   0.0568   3.5239 0.0004  0.0888  0.3114\n",
      "=================================================================================\n",
      "\n"
     ]
    }
   ],
   "source": [
    "X_train.drop(['nateglinide_Down','nateglinide_Steady','nateglinide_Up'], axis=1, inplace=True)\n",
    "model= sm.GLM(Y_train, X_train, family=sm.families.Binomial()).fit()\n",
    "print(model.summary2())"
   ]
  },
  {
   "cell_type": "code",
   "execution_count": 58,
   "metadata": {},
   "outputs": [
    {
     "name": "stdout",
     "output_type": "stream",
     "text": [
      "                        Results: Generalized linear model\n",
      "=================================================================================\n",
      "Model:                    GLM                   AIC:                 53993.0905  \n",
      "Link Function:            logit                 BIC:                 -843749.4653\n",
      "Dependent Variable:       readmit               Log-Likelihood:      -26955.     \n",
      "Date:                     2018-11-23 13:57      LL-Null:             -28156.     \n",
      "No. Observations:         79589                 Deviance:            53909.      \n",
      "Df Model:                 41                    Pearson chi2:        7.83e+04    \n",
      "Df Residuals:             79547                 Scale:               1.0000      \n",
      "Method:                   IRLS                                                   \n",
      "---------------------------------------------------------------------------------\n",
      "                                  Coef.  Std.Err.    z     P>|z|   [0.025  0.975]\n",
      "---------------------------------------------------------------------------------\n",
      "const                            -3.0444   0.1408 -21.6287 0.0000 -3.3203 -2.7685\n",
      "time_in_hospital                  0.0056   0.0044   1.2761 0.2019 -0.0030  0.0143\n",
      "num_lab_procedures                0.0014   0.0007   2.0904 0.0366  0.0001  0.0027\n",
      "num_procedures                   -0.0094   0.0077  -1.2121 0.2255 -0.0245  0.0058\n",
      "num_medications                   0.0047   0.0018   2.6006 0.0093  0.0012  0.0083\n",
      "number_emergency                  0.0417   0.0098   4.2711 0.0000  0.0226  0.0609\n",
      "number_inpatient                  0.2687   0.0073  36.6440 0.0000  0.2543  0.2830\n",
      "number_diagnoses                  0.0268   0.0068   3.9293 0.0001  0.0134  0.0402\n",
      "max_glu_serum                     0.0858   0.0733   1.1704 0.2418 -0.0579  0.2294\n",
      "A1C                               0.0876   0.0382   2.2954 0.0217  0.0128  0.1624\n",
      "metformin_Down                    0.1435   0.1438   0.9981 0.3182 -0.1383  0.4252\n",
      "metformin_Steady                 -0.1324   0.0360  -3.6828 0.0002 -0.2029 -0.0620\n",
      "metformin_Up                     -0.3489   0.1318  -2.6466 0.0081 -0.6072 -0.0905\n",
      "repaglinide_Down                 -0.5309   0.6079  -0.8733 0.3825 -1.7223  0.6606\n",
      "repaglinide_Steady               -0.0542   0.0942  -0.5750 0.5653 -0.2388  0.1305\n",
      "repaglinide_Up                    0.4823   0.2818   1.7115 0.0870 -0.0700  1.0345\n",
      "insulin_Down                      0.1384   0.0520   2.6618 0.0078  0.0365  0.2403\n",
      "insulin_Steady                   -0.0131   0.0348  -0.3770 0.7062 -0.0814  0.0552\n",
      "insulin_Up                        0.0402   0.0533   0.7550 0.4502 -0.0642  0.1447\n",
      "glimepiride_Down                  0.1428   0.2355   0.6061 0.5444 -0.3188  0.6043\n",
      "glimepiride_Steady               -0.1265   0.0587  -2.1541 0.0312 -0.2415 -0.0114\n",
      "glimepiride_Up                   -0.0411   0.2007  -0.2048 0.8377 -0.4344  0.3522\n",
      "glipizide_Down                    0.2965   0.1361   2.1780 0.0294  0.0297  0.5633\n",
      "glipizide_Steady                  0.0120   0.0392   0.3068 0.7590 -0.0647  0.0887\n",
      "glipizide_Up                      0.0721   0.1298   0.5557 0.5784 -0.1822  0.3265\n",
      "pioglitazone_Down                 0.1872   0.2975   0.6291 0.5293 -0.3960  0.7703\n",
      "pioglitazone_Steady              -0.0708   0.0482  -1.4705 0.1414 -0.1653  0.0236\n",
      "pioglitazone_Up                   0.0784   0.2229   0.3520 0.7248 -0.3583  0.5152\n",
      "gender_Male                       0.0430   0.0231   1.8641 0.0623 -0.0022  0.0883\n",
      "admission_Elective                0.0602   0.0490   1.2265 0.2200 -0.0360  0.1563\n",
      "admission_Non ELective            0.0596   0.0425   1.4025 0.1608 -0.0237  0.1429\n",
      "change_No                         0.0354   0.0379   0.9342 0.3502 -0.0389  0.1098\n",
      "Age_old                           0.1119   0.0273   4.1012 0.0000  0.0584  0.1654\n",
      "Age_young                         0.0138   0.0820   0.1687 0.8661 -0.1468  0.1745\n",
      "diabetesMed_Yes                   0.2428   0.0398   6.1046 0.0000  0.1649  0.3208\n",
      "Race_AfricanAmerican              0.1401   0.1054   1.3293 0.1838 -0.0665  0.3468\n",
      "Race_Asian                        0.1006   0.1825   0.5512 0.5815 -0.2570  0.4582\n",
      "Race_Caucasian                    0.1261   0.1029   1.2254 0.2204 -0.0756  0.3277\n",
      "Race_Hispanic                     0.1708   0.1306   1.3075 0.1910 -0.0852  0.4267\n",
      "Race_NA                          -0.0551   0.1332  -0.4136 0.6792 -0.3160  0.2059\n",
      "discharge_Discharged Home        -0.2853   0.0540  -5.2791 0.0000 -0.3912 -0.1794\n",
      "discharge_Discharged/Transferred  0.1999   0.0567   3.5227 0.0004  0.0887  0.3111\n",
      "=================================================================================\n",
      "\n"
     ]
    }
   ],
   "source": [
    "X_train.drop(['number_outpatient'], axis=1, inplace=True)\n",
    "model= sm.GLM(Y_train, X_train, family=sm.families.Binomial()).fit()\n",
    "print(model.summary2())"
   ]
  },
  {
   "cell_type": "code",
   "execution_count": 59,
   "metadata": {},
   "outputs": [
    {
     "name": "stdout",
     "output_type": "stream",
     "text": [
      "                        Results: Generalized linear model\n",
      "=================================================================================\n",
      "Model:                    GLM                   AIC:                 53991.1189  \n",
      "Link Function:            logit                 BIC:                 -843760.7216\n",
      "Dependent Variable:       readmit               Log-Likelihood:      -26955.     \n",
      "Date:                     2018-11-23 13:57      LL-Null:             -28156.     \n",
      "No. Observations:         79589                 Deviance:            53909.      \n",
      "Df Model:                 40                    Pearson chi2:        7.83e+04    \n",
      "Df Residuals:             79548                 Scale:               1.0000      \n",
      "Method:                   IRLS                                                   \n",
      "---------------------------------------------------------------------------------\n",
      "                                  Coef.  Std.Err.    z     P>|z|   [0.025  0.975]\n",
      "---------------------------------------------------------------------------------\n",
      "const                            -3.0423   0.1402 -21.6989 0.0000 -3.3171 -2.7675\n",
      "time_in_hospital                  0.0057   0.0044   1.2792 0.2008 -0.0030  0.0143\n",
      "num_lab_procedures                0.0014   0.0007   2.0930 0.0364  0.0001  0.0027\n",
      "num_procedures                   -0.0094   0.0077  -1.2168 0.2237 -0.0246  0.0057\n",
      "num_medications                   0.0047   0.0018   2.5951 0.0095  0.0012  0.0083\n",
      "number_emergency                  0.0417   0.0098   4.2741 0.0000  0.0226  0.0609\n",
      "number_inpatient                  0.2687   0.0073  36.7553 0.0000  0.2544  0.2831\n",
      "number_diagnoses                  0.0267   0.0068   3.9444 0.0001  0.0134  0.0399\n",
      "max_glu_serum                     0.0858   0.0733   1.1706 0.2418 -0.0578  0.2294\n",
      "A1C                               0.0873   0.0381   2.2900 0.0220  0.0126  0.1620\n",
      "metformin_Down                    0.1433   0.1438   0.9967 0.3189 -0.1385  0.4250\n",
      "metformin_Steady                 -0.1327   0.0359  -3.6922 0.0002 -0.2031 -0.0622\n",
      "metformin_Up                     -0.3491   0.1318  -2.6484 0.0081 -0.6074 -0.0907\n",
      "repaglinide_Down                 -0.5309   0.6079  -0.8733 0.3825 -1.7224  0.6605\n",
      "repaglinide_Steady               -0.0543   0.0942  -0.5766 0.5642 -0.2389  0.1303\n",
      "repaglinide_Up                    0.4821   0.2818   1.7110 0.0871 -0.0701  1.0344\n",
      "insulin_Down                      0.1387   0.0520   2.6706 0.0076  0.0369  0.2406\n",
      "insulin_Steady                   -0.0130   0.0348  -0.3723 0.7097 -0.0812  0.0553\n",
      "insulin_Up                        0.0407   0.0532   0.7653 0.4441 -0.0636  0.1450\n",
      "glimepiride_Down                  0.1426   0.2355   0.6056 0.5448 -0.3190  0.6042\n",
      "glimepiride_Steady               -0.1266   0.0587  -2.1575 0.0310 -0.2417 -0.0116\n",
      "glimepiride_Up                   -0.0412   0.2007  -0.2056 0.8371 -0.4345  0.3520\n",
      "glipizide_Down                    0.2964   0.1361   2.1774 0.0295  0.0296  0.5632\n",
      "glipizide_Steady                  0.0119   0.0391   0.3030 0.7619 -0.0649  0.0886\n",
      "glipizide_Up                      0.0719   0.1298   0.5542 0.5795 -0.1824  0.3263\n",
      "pioglitazone_Down                 0.1869   0.2975   0.6284 0.5298 -0.3962  0.7701\n",
      "pioglitazone_Steady              -0.0710   0.0482  -1.4731 0.1407 -0.1654  0.0235\n",
      "pioglitazone_Up                   0.0782   0.2229   0.3509 0.7256 -0.3586  0.5150\n",
      "gender_Male                       0.0429   0.0231   1.8588 0.0631 -0.0023  0.0881\n",
      "admission_Elective                0.0603   0.0490   1.2285 0.2193 -0.0359  0.1564\n",
      "admission_Non ELective            0.0597   0.0425   1.4051 0.1600 -0.0236  0.1430\n",
      "change_No                         0.0355   0.0379   0.9359 0.3493 -0.0388  0.1099\n",
      "Age_old                           0.1111   0.0268   4.1400 0.0000  0.0585  0.1637\n",
      "diabetesMed_Yes                   0.2429   0.0398   6.1070 0.0000  0.1649  0.3208\n",
      "Race_AfricanAmerican              0.1402   0.1054   1.3301 0.1835 -0.0664  0.3469\n",
      "Race_Asian                        0.1004   0.1825   0.5501 0.5823 -0.2573  0.4580\n",
      "Race_Caucasian                    0.1262   0.1029   1.2268 0.2199 -0.0754  0.3278\n",
      "Race_Hispanic                     0.1708   0.1306   1.3078 0.1910 -0.0852  0.4268\n",
      "Race_NA                          -0.0551   0.1332  -0.4136 0.6792 -0.3160  0.2059\n",
      "discharge_Discharged Home        -0.2851   0.0540  -5.2771 0.0000 -0.3910 -0.1792\n",
      "discharge_Discharged/Transferred  0.1999   0.0567   3.5234 0.0004  0.0887  0.3111\n",
      "=================================================================================\n",
      "\n"
     ]
    }
   ],
   "source": [
    "X_train.drop(['Age_young'], axis=1, inplace=True)\n",
    "model= sm.GLM(Y_train, X_train, family=sm.families.Binomial()).fit()\n",
    "print(model.summary2())"
   ]
  },
  {
   "cell_type": "code",
   "execution_count": 60,
   "metadata": {
    "scrolled": false
   },
   "outputs": [
    {
     "name": "stdout",
     "output_type": "stream",
     "text": [
      "                        Results: Generalized linear model\n",
      "=================================================================================\n",
      "Model:                    GLM                   AIC:                 53987.5201  \n",
      "Link Function:            logit                 BIC:                 -843782.8896\n",
      "Dependent Variable:       readmit               Log-Likelihood:      -26955.     \n",
      "Date:                     2018-11-23 13:57      LL-Null:             -28156.     \n",
      "No. Observations:         79589                 Deviance:            53910.      \n",
      "Df Model:                 38                    Pearson chi2:        7.83e+04    \n",
      "Df Residuals:             79550                 Scale:               1.0000      \n",
      "Method:                   IRLS                                                   \n",
      "---------------------------------------------------------------------------------\n",
      "                                  Coef.  Std.Err.    z     P>|z|   [0.025  0.975]\n",
      "---------------------------------------------------------------------------------\n",
      "const                            -3.0411   0.1401 -21.7001 0.0000 -3.3158 -2.7665\n",
      "time_in_hospital                  0.0057   0.0044   1.2863 0.1983 -0.0030  0.0143\n",
      "num_lab_procedures                0.0014   0.0007   2.0936 0.0363  0.0001  0.0027\n",
      "num_procedures                   -0.0094   0.0077  -1.2196 0.2226 -0.0246  0.0057\n",
      "num_medications                   0.0047   0.0018   2.6000 0.0093  0.0012  0.0083\n",
      "number_emergency                  0.0417   0.0098   4.2720 0.0000  0.0226  0.0609\n",
      "number_inpatient                  0.2688   0.0073  36.7595 0.0000  0.2544  0.2831\n",
      "number_diagnoses                  0.0266   0.0068   3.9423 0.0001  0.0134  0.0399\n",
      "max_glu_serum                     0.0855   0.0733   1.1670 0.2432 -0.0581  0.2291\n",
      "A1C                               0.0873   0.0381   2.2904 0.0220  0.0126  0.1620\n",
      "metformin_Down                    0.1433   0.1437   0.9972 0.3187 -0.1384  0.4251\n",
      "metformin_Steady                 -0.1334   0.0359  -3.7189 0.0002 -0.2037 -0.0631\n",
      "metformin_Up                     -0.3498   0.1318  -2.6537 0.0080 -0.6081 -0.0914\n",
      "repaglinide_Down                 -0.5324   0.6079  -0.8759 0.3811 -1.7238  0.6590\n",
      "repaglinide_Steady               -0.0546   0.0942  -0.5796 0.5622 -0.2392  0.1300\n",
      "repaglinide_Up                    0.4813   0.2818   1.7084 0.0876 -0.0709  1.0336\n",
      "insulin_Down                      0.1375   0.0517   2.6580 0.0079  0.0361  0.2388\n",
      "insulin_Steady                   -0.0135   0.0348  -0.3884 0.6977 -0.0817  0.0546\n",
      "insulin_Up                        0.0393   0.0530   0.7410 0.4587 -0.0646  0.1431\n",
      "glimepiride_Steady               -0.1273   0.0586  -2.1710 0.0299 -0.2422 -0.0124\n",
      "glipizide_Down                    0.2957   0.1361   2.1729 0.0298  0.0290  0.5623\n",
      "glipizide_Steady                  0.0112   0.0391   0.2875 0.7737 -0.0653  0.0878\n",
      "glipizide_Up                      0.0708   0.1297   0.5454 0.5855 -0.1835  0.3250\n",
      "pioglitazone_Down                 0.1893   0.2973   0.6367 0.5243 -0.3934  0.7719\n",
      "pioglitazone_Steady              -0.0713   0.0482  -1.4798 0.1389 -0.1657  0.0231\n",
      "pioglitazone_Up                   0.0780   0.2229   0.3498 0.7265 -0.3588  0.5147\n",
      "gender_Male                       0.0429   0.0231   1.8593 0.0630 -0.0023  0.0881\n",
      "admission_Elective                0.0602   0.0490   1.2271 0.2198 -0.0359  0.1563\n",
      "admission_Non ELective            0.0596   0.0425   1.4034 0.1605 -0.0236  0.1429\n",
      "change_No                         0.0343   0.0377   0.9116 0.3620 -0.0395  0.1082\n",
      "Age_old                           0.1111   0.0268   4.1416 0.0000  0.0585  0.1637\n",
      "diabetesMed_Yes                   0.2433   0.0397   6.1243 0.0000  0.1655  0.3212\n",
      "Race_AfricanAmerican              0.1399   0.1054   1.3270 0.1845 -0.0667  0.3465\n",
      "Race_Asian                        0.0997   0.1825   0.5462 0.5849 -0.2580  0.4573\n",
      "Race_Caucasian                    0.1258   0.1029   1.2230 0.2213 -0.0758  0.3274\n",
      "Race_Hispanic                     0.1702   0.1306   1.3034 0.1924 -0.0858  0.4262\n",
      "Race_NA                          -0.0551   0.1332  -0.4141 0.6788 -0.3161  0.2058\n",
      "discharge_Discharged Home        -0.2848   0.0540  -5.2713 0.0000 -0.3907 -0.1789\n",
      "discharge_Discharged/Transferred  0.2002   0.0567   3.5286 0.0004  0.0890  0.3114\n",
      "=================================================================================\n",
      "\n"
     ]
    }
   ],
   "source": [
    "X_train.drop(['glimepiride_Up','glimepiride_Down'], axis=1, inplace=True)\n",
    "model= sm.GLM(Y_train, X_train, family=sm.families.Binomial()).fit()\n",
    "print(model.summary2())"
   ]
  },
  {
   "cell_type": "code",
   "execution_count": 61,
   "metadata": {},
   "outputs": [
    {
     "name": "stdout",
     "output_type": "stream",
     "text": [
      "                        Results: Generalized linear model\n",
      "=================================================================================\n",
      "Model:                    GLM                   AIC:                 53984.3273  \n",
      "Link Function:            logit                 BIC:                 -843813.9363\n",
      "Dependent Variable:       readmit               Log-Likelihood:      -26956.     \n",
      "Date:                     2018-11-23 13:57      LL-Null:             -28156.     \n",
      "No. Observations:         79589                 Deviance:            53912.      \n",
      "Df Model:                 35                    Pearson chi2:        7.83e+04    \n",
      "Df Residuals:             79553                 Scale:               1.0000      \n",
      "Method:                   IRLS                                                   \n",
      "---------------------------------------------------------------------------------\n",
      "                                  Coef.  Std.Err.    z     P>|z|   [0.025  0.975]\n",
      "---------------------------------------------------------------------------------\n",
      "const                            -3.0491   0.1399 -21.7884 0.0000 -3.3234 -2.7748\n",
      "time_in_hospital                  0.0059   0.0044   1.3305 0.1833 -0.0028  0.0145\n",
      "num_lab_procedures                0.0014   0.0007   2.1192 0.0341  0.0001  0.0027\n",
      "num_procedures                   -0.0094   0.0077  -1.2138 0.2248 -0.0245  0.0058\n",
      "num_medications                   0.0046   0.0018   2.5372 0.0112  0.0010  0.0081\n",
      "number_emergency                  0.0416   0.0098   4.2621 0.0000  0.0225  0.0607\n",
      "number_inpatient                  0.2690   0.0073  36.8117 0.0000  0.2547  0.2834\n",
      "number_diagnoses                  0.0267   0.0068   3.9461 0.0001  0.0134  0.0399\n",
      "max_glu_serum                     0.0868   0.0733   1.1852 0.2360 -0.0568  0.2305\n",
      "A1C                               0.0870   0.0381   2.2817 0.0225  0.0123  0.1617\n",
      "metformin_Down                    0.1487   0.1437   1.0351 0.3006 -0.1329  0.4303\n",
      "metformin_Steady                 -0.1284   0.0356  -3.6042 0.0003 -0.1983 -0.0586\n",
      "metformin_Up                     -0.3443   0.1317  -2.6141 0.0089 -0.6025 -0.0862\n",
      "repaglinide_Down                 -0.5347   0.6078  -0.8797 0.3790 -1.7259  0.6565\n",
      "repaglinide_Steady               -0.0518   0.0941  -0.5497 0.5825 -0.2363  0.1328\n",
      "repaglinide_Up                    0.4888   0.2817   1.7352 0.0827 -0.0633  1.0408\n",
      "insulin_Down                      0.1514   0.0505   2.9960 0.0027  0.0524  0.2505\n",
      "insulin_Steady                   -0.0062   0.0343  -0.1792 0.8578 -0.0734  0.0611\n",
      "insulin_Up                        0.0539   0.0518   1.0403 0.2982 -0.0476  0.1554\n",
      "glimepiride_Steady               -0.1247   0.0586  -2.1291 0.0332 -0.2396 -0.0099\n",
      "glipizide_Down                    0.3027   0.1359   2.2267 0.0260  0.0363  0.5692\n",
      "glipizide_Steady                  0.0148   0.0390   0.3801 0.7038 -0.0615  0.0912\n",
      "glipizide_Up                      0.0774   0.1296   0.5970 0.5505 -0.1767  0.3315\n",
      "gender_Male                       0.0433   0.0231   1.8754 0.0607 -0.0020  0.0885\n",
      "admission_Elective                0.0592   0.0490   1.2081 0.2270 -0.0369  0.1553\n",
      "admission_Non ELective            0.0593   0.0425   1.3966 0.1625 -0.0239  0.1426\n",
      "change_No                         0.0456   0.0366   1.2461 0.2127 -0.0261  0.1172\n",
      "Age_old                           0.1113   0.0268   4.1486 0.0000  0.0587  0.1639\n",
      "diabetesMed_Yes                   0.2356   0.0393   5.9905 0.0000  0.1585  0.3127\n",
      "Race_AfricanAmerican              0.1397   0.1054   1.3252 0.1851 -0.0669  0.3463\n",
      "Race_Asian                        0.0983   0.1825   0.5386 0.5902 -0.2593  0.4559\n",
      "Race_Caucasian                    0.1250   0.1029   1.2153 0.2242 -0.0766  0.3266\n",
      "Race_Hispanic                     0.1693   0.1306   1.2961 0.1950 -0.0867  0.4252\n",
      "Race_NA                          -0.0548   0.1331  -0.4115 0.6807 -0.3158  0.2062\n",
      "discharge_Discharged Home        -0.2877   0.0540  -5.3281 0.0000 -0.3935 -0.1819\n",
      "discharge_Discharged/Transferred  0.1975   0.0567   3.4821 0.0005  0.0863  0.3086\n",
      "=================================================================================\n",
      "\n"
     ]
    }
   ],
   "source": [
    "X_train.drop(['pioglitazone_Up','pioglitazone_Steady','pioglitazone_Down'], axis=1, inplace=True)\n",
    "model= sm.GLM(Y_train, X_train, family=sm.families.Binomial()).fit()\n",
    "print(model.summary2())"
   ]
  },
  {
   "cell_type": "code",
   "execution_count": 62,
   "metadata": {},
   "outputs": [
    {
     "name": "stdout",
     "output_type": "stream",
     "text": [
      "                        Results: Generalized linear model\n",
      "=================================================================================\n",
      "Model:                    GLM                   AIC:                 53980.7869  \n",
      "Link Function:            logit                 BIC:                 -843836.0459\n",
      "Dependent Variable:       readmit               Log-Likelihood:      -26956.     \n",
      "Date:                     2018-11-23 13:57      LL-Null:             -28156.     \n",
      "No. Observations:         79589                 Deviance:            53913.      \n",
      "Df Model:                 33                    Pearson chi2:        7.83e+04    \n",
      "Df Residuals:             79555                 Scale:               1.0000      \n",
      "Method:                   IRLS                                                   \n",
      "---------------------------------------------------------------------------------\n",
      "                                  Coef.  Std.Err.    z     P>|z|   [0.025  0.975]\n",
      "---------------------------------------------------------------------------------\n",
      "const                            -3.0440   0.1397 -21.7875 0.0000 -3.3178 -2.7701\n",
      "time_in_hospital                  0.0059   0.0044   1.3471 0.1779 -0.0027  0.0146\n",
      "num_lab_procedures                0.0014   0.0007   2.1268 0.0334  0.0001  0.0027\n",
      "num_procedures                   -0.0094   0.0077  -1.2177 0.2233 -0.0246  0.0057\n",
      "num_medications                   0.0046   0.0018   2.5554 0.0106  0.0011  0.0082\n",
      "number_emergency                  0.0416   0.0098   4.2666 0.0000  0.0225  0.0608\n",
      "number_inpatient                  0.2690   0.0073  36.8059 0.0000  0.2546  0.2833\n",
      "number_diagnoses                  0.0266   0.0068   3.9396 0.0001  0.0134  0.0399\n",
      "max_glu_serum                     0.0875   0.0733   1.1937 0.2326 -0.0561  0.2311\n",
      "A1C                               0.0864   0.0381   2.2683 0.0233  0.0117  0.1611\n",
      "metformin_Down                    0.1454   0.1436   1.0128 0.3111 -0.1360  0.4268\n",
      "metformin_Steady                 -0.1311   0.0353  -3.7123 0.0002 -0.2004 -0.0619\n",
      "metformin_Up                     -0.3463   0.1316  -2.6312 0.0085 -0.6043 -0.0883\n",
      "repaglinide_Down                 -0.5402   0.6077  -0.8890 0.3740 -1.7312  0.6508\n",
      "repaglinide_Steady               -0.0548   0.0940  -0.5836 0.5595 -0.2390  0.1293\n",
      "repaglinide_Up                    0.4846   0.2815   1.7211 0.0852 -0.0673  1.0364\n",
      "insulin_Down                      0.1433   0.0481   2.9774 0.0029  0.0490  0.2376\n",
      "insulin_Steady                   -0.0101   0.0334  -0.3032 0.7618 -0.0755  0.0553\n",
      "insulin_Up                        0.0459   0.0495   0.9270 0.3539 -0.0512  0.1430\n",
      "glimepiride_Steady               -0.1293   0.0579  -2.2325 0.0256 -0.2428 -0.0158\n",
      "glipizide_Down                    0.2960   0.1354   2.1865 0.0288  0.0307  0.5613\n",
      "gender_Male                       0.0436   0.0231   1.8884 0.0590 -0.0017  0.0888\n",
      "admission_Elective                0.0591   0.0490   1.2060 0.2278 -0.0370  0.1552\n",
      "admission_Non ELective            0.0593   0.0425   1.3971 0.1624 -0.0239  0.1426\n",
      "change_No                         0.0397   0.0352   1.1287 0.2590 -0.0292  0.1086\n",
      "Age_old                           0.1115   0.0268   4.1578 0.0000  0.0590  0.1641\n",
      "diabetesMed_Yes                   0.2399   0.0382   6.2838 0.0000  0.1651  0.3147\n",
      "Race_AfricanAmerican              0.1392   0.1054   1.3202 0.1868 -0.0674  0.3458\n",
      "Race_Asian                        0.0979   0.1825   0.5363 0.5918 -0.2598  0.4555\n",
      "Race_Caucasian                    0.1246   0.1029   1.2110 0.2259 -0.0770  0.3262\n",
      "Race_Hispanic                     0.1691   0.1306   1.2949 0.1953 -0.0869  0.4251\n",
      "Race_NA                          -0.0554   0.1331  -0.4163 0.6772 -0.3164  0.2055\n",
      "discharge_Discharged Home        -0.2867   0.0539  -5.3141 0.0000 -0.3924 -0.1809\n",
      "discharge_Discharged/Transferred  0.1984   0.0567   3.5002 0.0005  0.0873  0.3094\n",
      "=================================================================================\n",
      "\n"
     ]
    }
   ],
   "source": [
    "X_train.drop(['glipizide_Steady','glipizide_Up'], axis=1, inplace=True)\n",
    "model= sm.GLM(Y_train, X_train, family=sm.families.Binomial()).fit()\n",
    "print(model.summary2())"
   ]
  },
  {
   "cell_type": "code",
   "execution_count": 63,
   "metadata": {
    "scrolled": false
   },
   "outputs": [
    {
     "name": "stdout",
     "output_type": "stream",
     "text": [
      "                        Results: Generalized linear model\n",
      "=================================================================================\n",
      "Model:                    GLM                   AIC:                 53977.5564  \n",
      "Link Function:            logit                 BIC:                 -843885.6996\n",
      "Dependent Variable:       readmit               Log-Likelihood:      -26960.     \n",
      "Date:                     2018-11-23 13:57      LL-Null:             -28156.     \n",
      "No. Observations:         79589                 Deviance:            53920.      \n",
      "Df Model:                 28                    Pearson chi2:        7.83e+04    \n",
      "Df Residuals:             79560                 Scale:               1.0000      \n",
      "Method:                   IRLS                                                   \n",
      "---------------------------------------------------------------------------------\n",
      "                                  Coef.  Std.Err.    z     P>|z|   [0.025  0.975]\n",
      "---------------------------------------------------------------------------------\n",
      "const                            -2.9184   0.0968 -30.1480 0.0000 -3.1081 -2.7287\n",
      "time_in_hospital                  0.0061   0.0044   1.3870 0.1655 -0.0025  0.0147\n",
      "num_lab_procedures                0.0014   0.0007   2.1023 0.0355  0.0001  0.0027\n",
      "num_procedures                   -0.0095   0.0077  -1.2354 0.2167 -0.0247  0.0056\n",
      "num_medications                   0.0046   0.0018   2.5339 0.0113  0.0010  0.0081\n",
      "number_emergency                  0.0418   0.0098   4.2820 0.0000  0.0227  0.0610\n",
      "number_inpatient                  0.2698   0.0073  36.9392 0.0000  0.2554  0.2841\n",
      "number_diagnoses                  0.0272   0.0067   4.0491 0.0001  0.0140  0.0404\n",
      "max_glu_serum                     0.0876   0.0732   1.1964 0.2316 -0.0559  0.2312\n",
      "A1C                               0.0874   0.0381   2.2935 0.0218  0.0127  0.1620\n",
      "metformin_Down                    0.1469   0.1435   1.0237 0.3060 -0.1344  0.4283\n",
      "metformin_Steady                 -0.1307   0.0353  -3.6993 0.0002 -0.1999 -0.0614\n",
      "metformin_Up                     -0.3453   0.1316  -2.6242 0.0087 -0.6033 -0.0874\n",
      "repaglinide_Down                 -0.5362   0.6077  -0.8824 0.3775 -1.7273  0.6548\n",
      "repaglinide_Steady               -0.0541   0.0939  -0.5757 0.5649 -0.2382  0.1300\n",
      "repaglinide_Up                    0.4880   0.2814   1.7341 0.0829 -0.0636  1.0396\n",
      "insulin_Down                      0.1437   0.0481   2.9881 0.0028  0.0494  0.2379\n",
      "insulin_Steady                   -0.0105   0.0333  -0.3159 0.7521 -0.0758  0.0547\n",
      "insulin_Up                        0.0447   0.0495   0.9026 0.3667 -0.0523  0.1417\n",
      "glimepiride_Steady               -0.1309   0.0579  -2.2611 0.0238 -0.2444 -0.0174\n",
      "glipizide_Down                    0.2937   0.1354   2.1697 0.0300  0.0284  0.5590\n",
      "gender_Male                       0.0419   0.0230   1.8199 0.0688 -0.0032  0.0870\n",
      "admission_Elective                0.0577   0.0490   1.1780 0.2388 -0.0383  0.1538\n",
      "admission_Non ELective            0.0577   0.0424   1.3622 0.1731 -0.0253  0.1407\n",
      "change_No                         0.0402   0.0352   1.1430 0.2530 -0.0287  0.1091\n",
      "Age_old                           0.1089   0.0266   4.0995 0.0000  0.0569  0.1610\n",
      "diabetesMed_Yes                   0.2392   0.0382   6.2662 0.0000  0.1644  0.3140\n",
      "discharge_Discharged Home        -0.2900   0.0539  -5.3800 0.0000 -0.3957 -0.1844\n",
      "discharge_Discharged/Transferred  0.1935   0.0566   3.4208 0.0006  0.0827  0.3044\n",
      "=================================================================================\n",
      "\n"
     ]
    }
   ],
   "source": [
    "X_train.drop(['Race_AfricanAmerican','Race_Asian','Race_Caucasian','Race_Hispanic','Race_NA'], axis=1, inplace=True)\n",
    "model= sm.GLM(Y_train, X_train, family=sm.families.Binomial()).fit()\n",
    "print(model.summary2())"
   ]
  },
  {
   "cell_type": "code",
   "execution_count": 64,
   "metadata": {},
   "outputs": [
    {
     "name": "stdout",
     "output_type": "stream",
     "text": [
      "                        Results: Generalized linear model\n",
      "=================================================================================\n",
      "Model:                    GLM                   AIC:                 53975.1688  \n",
      "Link Function:            logit                 BIC:                 -843906.6565\n",
      "Dependent Variable:       readmit               Log-Likelihood:      -26961.     \n",
      "Date:                     2018-11-23 13:57      LL-Null:             -28156.     \n",
      "No. Observations:         79589                 Deviance:            53921.      \n",
      "Df Model:                 26                    Pearson chi2:        7.83e+04    \n",
      "Df Residuals:             79562                 Scale:               1.0000      \n",
      "Method:                   IRLS                                                   \n",
      "---------------------------------------------------------------------------------\n",
      "                                  Coef.  Std.Err.    z     P>|z|   [0.025  0.975]\n",
      "---------------------------------------------------------------------------------\n",
      "const                            -2.8996   0.0955 -30.3767 0.0000 -3.0867 -2.7125\n",
      "time_in_hospital                  0.0062   0.0044   1.4098 0.1586 -0.0024  0.0148\n",
      "num_lab_procedures                0.0014   0.0007   2.1207 0.0339  0.0001  0.0027\n",
      "num_procedures                   -0.0098   0.0077  -1.2745 0.2025 -0.0250  0.0053\n",
      "num_medications                   0.0047   0.0018   2.6030 0.0092  0.0012  0.0082\n",
      "number_emergency                  0.0422   0.0098   4.3235 0.0000  0.0231  0.0613\n",
      "number_inpatient                  0.2701   0.0073  37.0466 0.0000  0.2559  0.2844\n",
      "number_diagnoses                  0.0274   0.0067   4.0792 0.0000  0.0142  0.0406\n",
      "max_glu_serum                     0.0874   0.0732   1.1936 0.2326 -0.0561  0.2309\n",
      "A1C                               0.0855   0.0380   2.2479 0.0246  0.0109  0.1600\n",
      "metformin_Down                    0.1343   0.1428   0.9402 0.3471 -0.1456  0.4142\n",
      "metformin_Steady                 -0.1380   0.0332  -4.1555 0.0000 -0.2030 -0.0729\n",
      "metformin_Up                     -0.3554   0.1310  -2.7137 0.0067 -0.6120 -0.0987\n",
      "repaglinide_Down                 -0.5460   0.6075  -0.8987 0.3688 -1.7367  0.6447\n",
      "repaglinide_Steady               -0.0551   0.0936  -0.5881 0.5565 -0.2386  0.1284\n",
      "repaglinide_Up                    0.4839   0.2813   1.7202 0.0854 -0.0674  1.0352\n",
      "insulin_Down                      0.1295   0.0368   3.5182 0.0004  0.0573  0.2016\n",
      "glimepiride_Steady               -0.1350   0.0574  -2.3498 0.0188 -0.2475 -0.0224\n",
      "glipizide_Down                    0.2841   0.1347   2.1084 0.0350  0.0200  0.5482\n",
      "gender_Male                       0.0419   0.0230   1.8206 0.0687 -0.0032  0.0870\n",
      "admission_Elective                0.0573   0.0490   1.1692 0.2423 -0.0387  0.1533\n",
      "admission_Non ELective            0.0559   0.0423   1.3206 0.1866 -0.0271  0.1389\n",
      "change_No                         0.0213   0.0298   0.7134 0.4756 -0.0372  0.0798\n",
      "Age_old                           0.1073   0.0265   4.0562 0.0000  0.0554  0.1591\n",
      "diabetesMed_Yes                   0.2344   0.0333   7.0487 0.0000  0.1692  0.2996\n",
      "discharge_Discharged Home        -0.2898   0.0537  -5.3962 0.0000 -0.3951 -0.1846\n",
      "discharge_Discharged/Transferred  0.1948   0.0563   3.4600 0.0005  0.0845  0.3052\n",
      "=================================================================================\n",
      "\n"
     ]
    }
   ],
   "source": [
    "X_train.drop(['insulin_Steady','insulin_Up'], axis=1, inplace=True)\n",
    "model= sm.GLM(Y_train, X_train, family=sm.families.Binomial()).fit()\n",
    "print(model.summary2())"
   ]
  },
  {
   "cell_type": "code",
   "execution_count": 65,
   "metadata": {},
   "outputs": [
    {
     "name": "stdout",
     "output_type": "stream",
     "text": [
      "                        Results: Generalized linear model\n",
      "=================================================================================\n",
      "Model:                    GLM                   AIC:                 53973.6777  \n",
      "Link Function:            logit                 BIC:                 -843917.4322\n",
      "Dependent Variable:       readmit               Log-Likelihood:      -26961.     \n",
      "Date:                     2018-11-23 13:57      LL-Null:             -28156.     \n",
      "No. Observations:         79589                 Deviance:            53922.      \n",
      "Df Model:                 25                    Pearson chi2:        7.83e+04    \n",
      "Df Residuals:             79563                 Scale:               1.0000      \n",
      "Method:                   IRLS                                                   \n",
      "---------------------------------------------------------------------------------\n",
      "                                  Coef.  Std.Err.    z     P>|z|   [0.025  0.975]\n",
      "---------------------------------------------------------------------------------\n",
      "const                            -2.8760   0.0895 -32.1165 0.0000 -3.0515 -2.7005\n",
      "time_in_hospital                  0.0062   0.0044   1.4038 0.1604 -0.0024  0.0148\n",
      "num_lab_procedures                0.0014   0.0007   2.1240 0.0337  0.0001  0.0027\n",
      "num_procedures                   -0.0096   0.0077  -1.2463 0.2127 -0.0247  0.0055\n",
      "num_medications                   0.0045   0.0018   2.5329 0.0113  0.0010  0.0080\n",
      "number_emergency                  0.0421   0.0098   4.3113 0.0000  0.0229  0.0612\n",
      "number_inpatient                  0.2702   0.0073  37.0463 0.0000  0.2559  0.2845\n",
      "number_diagnoses                  0.0273   0.0067   4.0697 0.0000  0.0142  0.0405\n",
      "max_glu_serum                     0.0867   0.0732   1.1836 0.2366 -0.0569  0.2302\n",
      "A1C                               0.0868   0.0380   2.2854 0.0223  0.0124  0.1612\n",
      "metformin_Down                    0.1248   0.1422   0.8779 0.3800 -0.1539  0.4035\n",
      "metformin_Steady                 -0.1435   0.0323  -4.4457 0.0000 -0.2068 -0.0802\n",
      "metformin_Up                     -0.3650   0.1303  -2.8019 0.0051 -0.6202 -0.1097\n",
      "repaglinide_Down                 -0.5551   0.6074  -0.9140 0.3607 -1.7455  0.6353\n",
      "repaglinide_Steady               -0.0580   0.0935  -0.6204 0.5350 -0.2413  0.1253\n",
      "repaglinide_Up                    0.4766   0.2811   1.6955 0.0900 -0.0743  1.0275\n",
      "insulin_Down                      0.1192   0.0338   3.5225 0.0004  0.0529  0.1855\n",
      "glimepiride_Steady               -0.1382   0.0573  -2.4139 0.0158 -0.2504 -0.0260\n",
      "glipizide_Down                    0.2755   0.1342   2.0529 0.0401  0.0125  0.5385\n",
      "gender_Male                       0.0417   0.0230   1.8104 0.0702 -0.0034  0.0867\n",
      "admission_Elective                0.0574   0.0490   1.1721 0.2412 -0.0386  0.1535\n",
      "admission_Non ELective            0.0561   0.0423   1.3255 0.1850 -0.0269  0.1391\n",
      "Age_old                           0.1074   0.0265   4.0611 0.0000  0.0556  0.1593\n",
      "diabetesMed_Yes                   0.2256   0.0309   7.2939 0.0000  0.1650  0.2863\n",
      "discharge_Discharged Home        -0.2910   0.0537  -5.4208 0.0000 -0.3962 -0.1858\n",
      "discharge_Discharged/Transferred  0.1933   0.0563   3.4362 0.0006  0.0831  0.3036\n",
      "=================================================================================\n",
      "\n"
     ]
    }
   ],
   "source": [
    "X_train.drop(['change_No'], axis=1, inplace=True)\n",
    "model= sm.GLM(Y_train, X_train, family=sm.families.Binomial()).fit()\n",
    "print(model.summary2())"
   ]
  },
  {
   "cell_type": "code",
   "execution_count": 66,
   "metadata": {
    "scrolled": true
   },
   "outputs": [
    {
     "name": "stdout",
     "output_type": "stream",
     "text": [
      "                        Results: Generalized linear model\n",
      "=================================================================================\n",
      "Model:                    GLM                   AIC:                 53971.5175  \n",
      "Link Function:            logit                 BIC:                 -843938.1617\n",
      "Dependent Variable:       readmit               Log-Likelihood:      -26962.     \n",
      "Date:                     2018-11-23 13:57      LL-Null:             -28156.     \n",
      "No. Observations:         79589                 Deviance:            53924.      \n",
      "Df Model:                 23                    Pearson chi2:        7.83e+04    \n",
      "Df Residuals:             79565                 Scale:               1.0000      \n",
      "Method:                   IRLS                                                   \n",
      "---------------------------------------------------------------------------------\n",
      "                                  Coef.  Std.Err.    z     P>|z|   [0.025  0.975]\n",
      "---------------------------------------------------------------------------------\n",
      "const                            -2.8334   0.0836 -33.8904 0.0000 -2.9972 -2.6695\n",
      "time_in_hospital                  0.0064   0.0044   1.4621 0.1437 -0.0022  0.0150\n",
      "num_lab_procedures                0.0014   0.0006   2.1847 0.0289  0.0001  0.0027\n",
      "num_procedures                   -0.0096   0.0076  -1.2635 0.2064 -0.0246  0.0053\n",
      "num_medications                   0.0045   0.0018   2.5284 0.0115  0.0010  0.0079\n",
      "number_emergency                  0.0421   0.0098   4.3179 0.0000  0.0230  0.0612\n",
      "number_inpatient                  0.2704   0.0073  37.0973 0.0000  0.2561  0.2847\n",
      "number_diagnoses                  0.0278   0.0067   4.1660 0.0000  0.0147  0.0409\n",
      "max_glu_serum                     0.0471   0.0671   0.7022 0.4825 -0.0844  0.1787\n",
      "A1C                               0.0876   0.0380   2.3088 0.0210  0.0132  0.1620\n",
      "metformin_Down                    0.1238   0.1422   0.8708 0.3839 -0.1549  0.4025\n",
      "metformin_Steady                 -0.1427   0.0323  -4.4247 0.0000 -0.2059 -0.0795\n",
      "metformin_Up                     -0.3638   0.1302  -2.7929 0.0052 -0.6190 -0.1085\n",
      "repaglinide_Down                 -0.5510   0.6073  -0.9072 0.3643 -1.7414  0.6394\n",
      "repaglinide_Steady               -0.0550   0.0935  -0.5883 0.5564 -0.2382  0.1282\n",
      "repaglinide_Up                    0.4796   0.2811   1.7065 0.0879 -0.0712  1.0305\n",
      "insulin_Down                      0.1206   0.0338   3.5670 0.0004  0.0543  0.1868\n",
      "glimepiride_Steady               -0.1363   0.0572  -2.3814 0.0172 -0.2484 -0.0241\n",
      "glipizide_Down                    0.2752   0.1342   2.0508 0.0403  0.0122  0.5382\n",
      "gender_Male                       0.0414   0.0230   1.8017 0.0716 -0.0036  0.0865\n",
      "Age_old                           0.1072   0.0264   4.0524 0.0001  0.0553  0.1590\n",
      "diabetesMed_Yes                   0.2253   0.0309   7.2868 0.0000  0.1647  0.2859\n",
      "discharge_Discharged Home        -0.2857   0.0535  -5.3373 0.0000 -0.3906 -0.1808\n",
      "discharge_Discharged/Transferred  0.1973   0.0562   3.5130 0.0004  0.0872  0.3074\n",
      "=================================================================================\n",
      "\n"
     ]
    }
   ],
   "source": [
    "X_train.drop(['admission_Elective','admission_Non ELective'], axis=1, inplace=True)\n",
    "model= sm.GLM(Y_train, X_train, family=sm.families.Binomial()).fit()\n",
    "print(model.summary2())"
   ]
  },
  {
   "cell_type": "code",
   "execution_count": 67,
   "metadata": {},
   "outputs": [
    {
     "name": "stdout",
     "output_type": "stream",
     "text": [
      "                        Results: Generalized linear model\n",
      "=================================================================================\n",
      "Model:                    GLM                   AIC:                 53969.4798  \n",
      "Link Function:            logit                 BIC:                 -843968.0533\n",
      "Dependent Variable:       readmit               Log-Likelihood:      -26964.     \n",
      "Date:                     2018-11-23 13:57      LL-Null:             -28156.     \n",
      "No. Observations:         79589                 Deviance:            53927.      \n",
      "Df Model:                 20                    Pearson chi2:        7.83e+04    \n",
      "Df Residuals:             79568                 Scale:               1.0000      \n",
      "Method:                   IRLS                                                   \n",
      "---------------------------------------------------------------------------------\n",
      "                                  Coef.  Std.Err.    z     P>|z|   [0.025  0.975]\n",
      "---------------------------------------------------------------------------------\n",
      "const                            -2.8322   0.0836 -33.8843 0.0000 -2.9961 -2.6684\n",
      "time_in_hospital                  0.0064   0.0044   1.4597 0.1444 -0.0022  0.0150\n",
      "num_lab_procedures                0.0014   0.0006   2.1993 0.0279  0.0002  0.0027\n",
      "num_procedures                   -0.0097   0.0076  -1.2697 0.2042 -0.0247  0.0053\n",
      "num_medications                   0.0045   0.0018   2.5318 0.0113  0.0010  0.0079\n",
      "number_emergency                  0.0421   0.0098   4.3202 0.0000  0.0230  0.0613\n",
      "number_inpatient                  0.2703   0.0073  37.0882 0.0000  0.2560  0.2846\n",
      "number_diagnoses                  0.0277   0.0067   4.1554 0.0000  0.0147  0.0408\n",
      "max_glu_serum                     0.0473   0.0671   0.7043 0.4812 -0.0843  0.1788\n",
      "A1C                               0.0866   0.0379   2.2847 0.0223  0.0123  0.1610\n",
      "metformin_Down                    0.1246   0.1422   0.8762 0.3809 -0.1541  0.4033\n",
      "metformin_Steady                 -0.1426   0.0322  -4.4208 0.0000 -0.2058 -0.0794\n",
      "metformin_Up                     -0.3590   0.1302  -2.7583 0.0058 -0.6142 -0.1039\n",
      "insulin_Down                      0.1210   0.0338   3.5814 0.0003  0.0548  0.1873\n",
      "glimepiride_Steady               -0.1367   0.0572  -2.3883 0.0169 -0.2488 -0.0245\n",
      "glipizide_Down                    0.2750   0.1342   2.0494 0.0404  0.0120  0.5380\n",
      "gender_Male                       0.0414   0.0230   1.7978 0.0722 -0.0037  0.0864\n",
      "Age_old                           0.1070   0.0264   4.0486 0.0001  0.0552  0.1588\n",
      "diabetesMed_Yes                   0.2246   0.0309   7.2779 0.0000  0.1641  0.2851\n",
      "discharge_Discharged Home        -0.2853   0.0535  -5.3308 0.0000 -0.3902 -0.1804\n",
      "discharge_Discharged/Transferred  0.1975   0.0562   3.5169 0.0004  0.0874  0.3076\n",
      "=================================================================================\n",
      "\n"
     ]
    }
   ],
   "source": [
    "X_train.drop(['repaglinide_Down','repaglinide_Up','repaglinide_Steady'], axis=1, inplace=True)\n",
    "model= sm.GLM(Y_train, X_train, family=sm.families.Binomial()).fit()\n",
    "print(model.summary2())"
   ]
  },
  {
   "cell_type": "code",
   "execution_count": 68,
   "metadata": {},
   "outputs": [
    {
     "name": "stdout",
     "output_type": "stream",
     "text": [
      "                        Results: Generalized linear model\n",
      "=================================================================================\n",
      "Model:                    GLM                   AIC:                 53968.2251  \n",
      "Link Function:            logit                 BIC:                 -843978.5926\n",
      "Dependent Variable:       readmit               Log-Likelihood:      -26964.     \n",
      "Date:                     2018-11-23 13:57      LL-Null:             -28156.     \n",
      "No. Observations:         79589                 Deviance:            53928.      \n",
      "Df Model:                 19                    Pearson chi2:        7.83e+04    \n",
      "Df Residuals:             79569                 Scale:               1.0000      \n",
      "Method:                   IRLS                                                   \n",
      "---------------------------------------------------------------------------------\n",
      "                                  Coef.  Std.Err.    z     P>|z|   [0.025  0.975]\n",
      "---------------------------------------------------------------------------------\n",
      "const                            -2.8313   0.0836 -33.8772 0.0000 -2.9951 -2.6675\n",
      "time_in_hospital                  0.0064   0.0044   1.4675 0.1422 -0.0022  0.0151\n",
      "num_lab_procedures                0.0014   0.0006   2.1917 0.0284  0.0001  0.0027\n",
      "num_procedures                   -0.0098   0.0076  -1.2865 0.1983 -0.0248  0.0051\n",
      "num_medications                   0.0045   0.0018   2.5616 0.0104  0.0011  0.0080\n",
      "number_emergency                  0.0421   0.0098   4.3169 0.0000  0.0230  0.0612\n",
      "number_inpatient                  0.2702   0.0073  37.0802 0.0000  0.2559  0.2844\n",
      "number_diagnoses                  0.0276   0.0067   4.1420 0.0000  0.0146  0.0407\n",
      "max_glu_serum                     0.0468   0.0671   0.6975 0.4855 -0.0847  0.1783\n",
      "A1C                               0.0863   0.0379   2.2760 0.0228  0.0120  0.1606\n",
      "metformin_Steady                 -0.1440   0.0322  -4.4716 0.0000 -0.2071 -0.0809\n",
      "metformin_Up                     -0.3606   0.1302  -2.7709 0.0056 -0.6157 -0.1055\n",
      "insulin_Down                      0.1205   0.0338   3.5673 0.0004  0.0543  0.1868\n",
      "glimepiride_Steady               -0.1365   0.0572  -2.3851 0.0171 -0.2486 -0.0243\n",
      "glipizide_Down                    0.2777   0.1342   2.0698 0.0385  0.0147  0.5406\n",
      "gender_Male                       0.0414   0.0230   1.8002 0.0718 -0.0037  0.0865\n",
      "Age_old                           0.1068   0.0264   4.0422 0.0001  0.0550  0.1586\n",
      "diabetesMed_Yes                   0.2257   0.0308   7.3226 0.0000  0.1653  0.2861\n",
      "discharge_Discharged Home        -0.2854   0.0535  -5.3320 0.0000 -0.3903 -0.1805\n",
      "discharge_Discharged/Transferred  0.1972   0.0562   3.5109 0.0004  0.0871  0.3072\n",
      "=================================================================================\n",
      "\n"
     ]
    }
   ],
   "source": [
    "X_train.drop(['metformin_Down'], axis=1, inplace=True)\n",
    "model= sm.GLM(Y_train, X_train, family=sm.families.Binomial()).fit()\n",
    "print(model.summary2())"
   ]
  },
  {
   "cell_type": "code",
   "execution_count": 69,
   "metadata": {},
   "outputs": [
    {
     "name": "stdout",
     "output_type": "stream",
     "text": [
      "                        Results: Generalized linear model\n",
      "=================================================================================\n",
      "Model:                    GLM                   AIC:                 53966.7071  \n",
      "Link Function:            logit                 BIC:                 -843989.3952\n",
      "Dependent Variable:       readmit               Log-Likelihood:      -26964.     \n",
      "Date:                     2018-11-23 13:57      LL-Null:             -28156.     \n",
      "No. Observations:         79589                 Deviance:            53929.      \n",
      "Df Model:                 18                    Pearson chi2:        7.83e+04    \n",
      "Df Residuals:             79570                 Scale:               1.0000      \n",
      "Method:                   IRLS                                                   \n",
      "---------------------------------------------------------------------------------\n",
      "                                  Coef.  Std.Err.    z     P>|z|   [0.025  0.975]\n",
      "---------------------------------------------------------------------------------\n",
      "const                            -2.8266   0.0833 -33.9382 0.0000 -2.9899 -2.6634\n",
      "time_in_hospital                  0.0066   0.0044   1.5097 0.1311 -0.0020  0.0152\n",
      "num_lab_procedures                0.0014   0.0006   2.1196 0.0340  0.0001  0.0026\n",
      "num_procedures                   -0.0102   0.0076  -1.3376 0.1810 -0.0251  0.0047\n",
      "num_medications                   0.0046   0.0018   2.5929 0.0095  0.0011  0.0080\n",
      "number_emergency                  0.0422   0.0098   4.3307 0.0000  0.0231  0.0614\n",
      "number_inpatient                  0.2702   0.0073  37.0921 0.0000  0.2560  0.2845\n",
      "number_diagnoses                  0.0274   0.0067   4.1160 0.0000  0.0144  0.0405\n",
      "A1C                               0.0865   0.0379   2.2823 0.0225  0.0122  0.1608\n",
      "metformin_Steady                 -0.1447   0.0322  -4.4938 0.0000 -0.2077 -0.0816\n",
      "metformin_Up                     -0.3601   0.1301  -2.7671 0.0057 -0.6152 -0.1050\n",
      "insulin_Down                      0.1216   0.0338   3.6039 0.0003  0.0555  0.1878\n",
      "glimepiride_Steady               -0.1374   0.0572  -2.4013 0.0163 -0.2495 -0.0252\n",
      "glipizide_Down                    0.2776   0.1342   2.0691 0.0385  0.0146  0.5405\n",
      "gender_Male                       0.0415   0.0230   1.8040 0.0712 -0.0036  0.0866\n",
      "Age_old                           0.1068   0.0264   4.0412 0.0001  0.0550  0.1586\n",
      "diabetesMed_Yes                   0.2259   0.0308   7.3289 0.0000  0.1655  0.2863\n",
      "discharge_Discharged Home        -0.2865   0.0535  -5.3551 0.0000 -0.3913 -0.1816\n",
      "discharge_Discharged/Transferred  0.1969   0.0562   3.5059 0.0005  0.0868  0.3069\n",
      "=================================================================================\n",
      "\n"
     ]
    }
   ],
   "source": [
    "X_train.drop(['max_glu_serum'], axis=1, inplace=True)\n",
    "model= sm.GLM(Y_train, X_train, family=sm.families.Binomial()).fit()\n",
    "print(model.summary2())"
   ]
  },
  {
   "cell_type": "code",
   "execution_count": 70,
   "metadata": {},
   "outputs": [
    {
     "name": "stdout",
     "output_type": "stream",
     "text": [
      "                        Results: Generalized linear model\n",
      "=================================================================================\n",
      "Model:                    GLM                   AIC:                 53967.9590  \n",
      "Link Function:            logit                 BIC:                 -843997.4280\n",
      "Dependent Variable:       readmit               Log-Likelihood:      -26966.     \n",
      "Date:                     2018-11-23 13:57      LL-Null:             -28156.     \n",
      "No. Observations:         79589                 Deviance:            53932.      \n",
      "Df Model:                 17                    Pearson chi2:        7.83e+04    \n",
      "Df Residuals:             79571                 Scale:               1.0000      \n",
      "Method:                   IRLS                                                   \n",
      "---------------------------------------------------------------------------------\n",
      "                                  Coef.  Std.Err.    z     P>|z|   [0.025  0.975]\n",
      "---------------------------------------------------------------------------------\n",
      "const                            -2.8071   0.0826 -33.9970 0.0000 -2.9689 -2.6453\n",
      "time_in_hospital                  0.0065   0.0044   1.4774 0.1396 -0.0021  0.0151\n",
      "num_lab_procedures                0.0014   0.0006   2.1279 0.0333  0.0001  0.0026\n",
      "num_procedures                   -0.0093   0.0076  -1.2205 0.2223 -0.0242  0.0056\n",
      "num_medications                   0.0045   0.0018   2.5323 0.0113  0.0010  0.0079\n",
      "number_emergency                  0.0419   0.0098   4.2903 0.0000  0.0227  0.0610\n",
      "number_inpatient                  0.2702   0.0073  37.0830 0.0000  0.2559  0.2845\n",
      "number_diagnoses                  0.0276   0.0067   4.1422 0.0000  0.0145  0.0407\n",
      "A1C                               0.0857   0.0379   2.2592 0.0239  0.0113  0.1600\n",
      "metformin_Steady                 -0.1449   0.0322  -4.5002 0.0000 -0.2079 -0.0818\n",
      "metformin_Up                     -0.3599   0.1301  -2.7654 0.0057 -0.6150 -0.1048\n",
      "insulin_Down                      0.1216   0.0338   3.6027 0.0003  0.0554  0.1878\n",
      "glimepiride_Steady               -0.1370   0.0572  -2.3961 0.0166 -0.2492 -0.0249\n",
      "glipizide_Down                    0.2771   0.1342   2.0656 0.0389  0.0142  0.5401\n",
      "Age_old                           0.1060   0.0264   4.0125 0.0001  0.0542  0.1578\n",
      "diabetesMed_Yes                   0.2271   0.0308   7.3685 0.0000  0.1667  0.2875\n",
      "discharge_Discharged Home        -0.2861   0.0535  -5.3471 0.0000 -0.3909 -0.1812\n",
      "discharge_Discharged/Transferred  0.1948   0.0561   3.4692 0.0005  0.0847  0.3048\n",
      "=================================================================================\n",
      "\n"
     ]
    }
   ],
   "source": [
    "X_train.drop(['gender_Male'], axis=1, inplace=True)\n",
    "model= sm.GLM(Y_train, X_train, family=sm.families.Binomial()).fit()\n",
    "print(model.summary2())"
   ]
  },
  {
   "cell_type": "code",
   "execution_count": 71,
   "metadata": {},
   "outputs": [
    {
     "name": "stdout",
     "output_type": "stream",
     "text": [
      "                        Results: Generalized linear model\n",
      "=================================================================================\n",
      "Model:                    GLM                   AIC:                 53967.4551  \n",
      "Link Function:            logit                 BIC:                 -844007.2164\n",
      "Dependent Variable:       readmit               Log-Likelihood:      -26967.     \n",
      "Date:                     2018-11-23 13:57      LL-Null:             -28156.     \n",
      "No. Observations:         79589                 Deviance:            53933.      \n",
      "Df Model:                 16                    Pearson chi2:        7.83e+04    \n",
      "Df Residuals:             79572                 Scale:               1.0000      \n",
      "Method:                   IRLS                                                   \n",
      "---------------------------------------------------------------------------------\n",
      "                                  Coef.  Std.Err.    z     P>|z|   [0.025  0.975]\n",
      "---------------------------------------------------------------------------------\n",
      "const                            -2.8124   0.0825 -34.1059 0.0000 -2.9740 -2.6508\n",
      "time_in_hospital                  0.0061   0.0044   1.3957 0.1628 -0.0025  0.0147\n",
      "num_lab_procedures                0.0014   0.0006   2.2014 0.0277  0.0002  0.0027\n",
      "num_medications                   0.0037   0.0016   2.2434 0.0249  0.0005  0.0069\n",
      "number_emergency                  0.0421   0.0098   4.3095 0.0000  0.0229  0.0612\n",
      "number_inpatient                  0.2711   0.0072  37.4136 0.0000  0.2569  0.2853\n",
      "number_diagnoses                  0.0277   0.0067   4.1533 0.0000  0.0146  0.0408\n",
      "A1C                               0.0857   0.0379   2.2600 0.0238  0.0114  0.1600\n",
      "metformin_Steady                 -0.1426   0.0321  -4.4368 0.0000 -0.2056 -0.0796\n",
      "metformin_Up                     -0.3574   0.1301  -2.7461 0.0060 -0.6124 -0.1023\n",
      "insulin_Down                      0.1230   0.0337   3.6451 0.0003  0.0569  0.1891\n",
      "glimepiride_Steady               -0.1373   0.0572  -2.3999 0.0164 -0.2494 -0.0252\n",
      "glipizide_Down                    0.2776   0.1342   2.0692 0.0385  0.0147  0.5405\n",
      "Age_old                           0.1070   0.0264   4.0523 0.0001  0.0553  0.1588\n",
      "diabetesMed_Yes                   0.2291   0.0308   7.4472 0.0000  0.1688  0.2895\n",
      "discharge_Discharged Home        -0.2858   0.0535  -5.3421 0.0000 -0.3906 -0.1809\n",
      "discharge_Discharged/Transferred  0.1986   0.0561   3.5433 0.0004  0.0887  0.3085\n",
      "=================================================================================\n",
      "\n"
     ]
    }
   ],
   "source": [
    "X_train.drop(['num_procedures'], axis=1, inplace=True)\n",
    "model= sm.GLM(Y_train, X_train, family=sm.families.Binomial()).fit()\n",
    "print(model.summary2())"
   ]
  },
  {
   "cell_type": "code",
   "execution_count": 72,
   "metadata": {},
   "outputs": [
    {
     "name": "stdout",
     "output_type": "stream",
     "text": [
      "                        Results: Generalized linear model\n",
      "=================================================================================\n",
      "Model:                    GLM                   AIC:                 53967.3957  \n",
      "Link Function:            logit                 BIC:                 -844016.5605\n",
      "Dependent Variable:       readmit               Log-Likelihood:      -26968.     \n",
      "Date:                     2018-11-23 13:57      LL-Null:             -28156.     \n",
      "No. Observations:         79589                 Deviance:            53935.      \n",
      "Df Model:                 15                    Pearson chi2:        7.83e+04    \n",
      "Df Residuals:             79573                 Scale:               1.0000      \n",
      "Method:                   IRLS                                                   \n",
      "---------------------------------------------------------------------------------\n",
      "                                  Coef.  Std.Err.    z     P>|z|   [0.025  0.975]\n",
      "---------------------------------------------------------------------------------\n",
      "const                            -2.8068   0.0824 -34.0826 0.0000 -2.9683 -2.6454\n",
      "num_lab_procedures                0.0016   0.0006   2.5460 0.0109  0.0004  0.0028\n",
      "num_medications                   0.0046   0.0015   3.0039 0.0027  0.0016  0.0075\n",
      "number_emergency                  0.0417   0.0098   4.2759 0.0000  0.0226  0.0609\n",
      "number_inpatient                  0.2715   0.0072  37.4929 0.0000  0.2573  0.2857\n",
      "number_diagnoses                  0.0283   0.0066   4.2633 0.0000  0.0153  0.0414\n",
      "A1C                               0.0848   0.0379   2.2379 0.0252  0.0105  0.1591\n",
      "metformin_Steady                 -0.1434   0.0321  -4.4633 0.0000 -0.2064 -0.0804\n",
      "metformin_Up                     -0.3536   0.1301  -2.7181 0.0066 -0.6086 -0.0986\n",
      "insulin_Down                      0.1228   0.0337   3.6413 0.0003  0.0567  0.1890\n",
      "glimepiride_Steady               -0.1380   0.0572  -2.4135 0.0158 -0.2501 -0.0259\n",
      "glipizide_Down                    0.2824   0.1341   2.1056 0.0352  0.0195  0.5452\n",
      "Age_old                           0.1081   0.0264   4.0948 0.0000  0.0564  0.1598\n",
      "diabetesMed_Yes                   0.2284   0.0308   7.4252 0.0000  0.1681  0.2887\n",
      "discharge_Discharged Home        -0.2921   0.0533  -5.4816 0.0000 -0.3966 -0.1877\n",
      "discharge_Discharged/Transferred  0.1983   0.0560   3.5387 0.0004  0.0885  0.3082\n",
      "=================================================================================\n",
      "\n"
     ]
    }
   ],
   "source": [
    "X_train.drop(['time_in_hospital'], axis=1, inplace=True)\n",
    "model= sm.GLM(Y_train, X_train, family=sm.families.Binomial()).fit()\n",
    "print(model.summary2())"
   ]
  },
  {
   "cell_type": "markdown",
   "metadata": {},
   "source": [
    "#### Now all the variables are significant and also we observe that deviance and aic are improved. This is considered as Final model"
   ]
  },
  {
   "cell_type": "markdown",
   "metadata": {},
   "source": [
    "#### Testing the accuracy of the model using test data set"
   ]
  },
  {
   "cell_type": "code",
   "execution_count": 73,
   "metadata": {},
   "outputs": [],
   "source": [
    "X_test = sm.add_constant(X_test[['num_lab_procedures','num_medications','number_emergency','number_inpatient','number_diagnoses','A1C','metformin_Steady','metformin_Up','insulin_Down','glimepiride_Steady','glipizide_Down','Age_old','diabetesMed_Yes','discharge_Discharged Home','discharge_Discharged/Transferred']])"
   ]
  },
  {
   "cell_type": "code",
   "execution_count": 74,
   "metadata": {},
   "outputs": [],
   "source": [
    "probabilities = model.predict(X_test)"
   ]
  },
  {
   "cell_type": "code",
   "execution_count": 75,
   "metadata": {
    "scrolled": true
   },
   "outputs": [
    {
     "data": {
      "text/plain": [
       "12187     0.096891\n",
       "100577    0.077404\n",
       "77206     0.105490\n",
       "68100     0.126157\n",
       "92827     0.137303\n",
       "dtype: float64"
      ]
     },
     "execution_count": 75,
     "metadata": {},
     "output_type": "execute_result"
    }
   ],
   "source": [
    "probabilities.head()"
   ]
  },
  {
   "cell_type": "markdown",
   "metadata": {},
   "source": [
    "#### Setting a cutoff probability of 0.1 to make predictions if the passenger survived or not on the test data set.\n"
   ]
  },
  {
   "cell_type": "code",
   "execution_count": 76,
   "metadata": {},
   "outputs": [],
   "source": [
    "predicted_classes = probabilities.map(lambda x: 1 if x > 0.1 else 0)"
   ]
  },
  {
   "cell_type": "code",
   "execution_count": 77,
   "metadata": {},
   "outputs": [
    {
     "data": {
      "text/plain": [
       "12187     0\n",
       "100577    0\n",
       "77206     1\n",
       "68100     1\n",
       "92827     1\n",
       "dtype: int64"
      ]
     },
     "execution_count": 77,
     "metadata": {},
     "output_type": "execute_result"
    }
   ],
   "source": [
    "predicted_classes.head()"
   ]
  },
  {
   "cell_type": "code",
   "execution_count": 78,
   "metadata": {},
   "outputs": [
    {
     "data": {
      "text/plain": [
       "0.5915167353502865"
      ]
     },
     "execution_count": 78,
     "metadata": {},
     "output_type": "execute_result"
    }
   ],
   "source": [
    "accuracy = sum(predicted_classes == Y_test) / len(Y_test)\n",
    "accuracy"
   ]
  },
  {
   "cell_type": "markdown",
   "metadata": {},
   "source": [
    "#### Plotting an ROC curve and confusion matrix"
   ]
  },
  {
   "cell_type": "code",
   "execution_count": 79,
   "metadata": {},
   "outputs": [],
   "source": [
    "from sklearn.metrics import roc_curve, roc_auc_score\n",
    "import matplotlib.pyplot as plt\n",
    "from sklearn.metrics import confusion_matrix\n",
    "import seaborn as sns\n",
    "%matplotlib inline"
   ]
  },
  {
   "cell_type": "code",
   "execution_count": 80,
   "metadata": {},
   "outputs": [
    {
     "data": {
      "text/html": [
       "<div>\n",
       "<style scoped>\n",
       "    .dataframe tbody tr th:only-of-type {\n",
       "        vertical-align: middle;\n",
       "    }\n",
       "\n",
       "    .dataframe tbody tr th {\n",
       "        vertical-align: top;\n",
       "    }\n",
       "\n",
       "    .dataframe thead th {\n",
       "        text-align: right;\n",
       "    }\n",
       "</style>\n",
       "<table border=\"1\" class=\"dataframe\">\n",
       "  <thead>\n",
       "    <tr style=\"text-align: right;\">\n",
       "      <th></th>\n",
       "      <th>Predicted 0</th>\n",
       "      <th>Predicted 1</th>\n",
       "    </tr>\n",
       "  </thead>\n",
       "  <tbody>\n",
       "    <tr>\n",
       "      <th>Actual 0</th>\n",
       "      <td>10336</td>\n",
       "      <td>7328</td>\n",
       "    </tr>\n",
       "    <tr>\n",
       "      <th>Actual 1</th>\n",
       "      <td>800</td>\n",
       "      <td>1434</td>\n",
       "    </tr>\n",
       "  </tbody>\n",
       "</table>\n",
       "</div>"
      ],
      "text/plain": [
       "          Predicted 0  Predicted 1\n",
       "Actual 0        10336         7328\n",
       "Actual 1          800         1434"
      ]
     },
     "execution_count": 80,
     "metadata": {},
     "output_type": "execute_result"
    }
   ],
   "source": [
    "confusion_mat = confusion_matrix(Y_test, predicted_classes)\n",
    "confusion_df = pd.DataFrame(confusion_mat, index=['Actual 0','Actual 1'], columns=['Predicted 0','Predicted 1'])\n",
    "confusion_df"
   ]
  },
  {
   "cell_type": "markdown",
   "metadata": {},
   "source": [
    "#### Though the accuracy of model is less, It is predicting 1's that is readmissions more accurate than no readmissions"
   ]
  },
  {
   "cell_type": "code",
   "execution_count": 81,
   "metadata": {},
   "outputs": [
    {
     "data": {
      "image/png": "[encoded data removed]",
      "text/plain": [
       "<Figure size 432x288 with 2 Axes>"
      ]
     },
     "metadata": {},
     "output_type": "display_data"
    }
   ],
   "source": [
    "_=sns.heatmap(confusion_df, cmap='coolwarm', annot=True)"
   ]
  },
  {
   "cell_type": "code",
   "execution_count": 82,
   "metadata": {},
   "outputs": [],
   "source": [
    "probs = model.predict(X_test)"
   ]
  },
  {
   "cell_type": "code",
   "execution_count": 83,
   "metadata": {},
   "outputs": [
    {
     "name": "stdout",
     "output_type": "stream",
     "text": [
      "AUC 0.65103089664182\n"
     ]
    }
   ],
   "source": [
    "auc = roc_auc_score(Y_test, probs)\n",
    "print('AUC',auc)"
   ]
  },
  {
   "cell_type": "code",
   "execution_count": 84,
   "metadata": {},
   "outputs": [],
   "source": [
    "fpr, tpr, threshold = roc_curve(Y_test, probs)"
   ]
  },
  {
   "cell_type": "code",
   "execution_count": 85,
   "metadata": {},
   "outputs": [
    {
     "data": {
      "image/png": "[encoded data removed]",
      "text/plain": [
       "<Figure size 432x288 with 1 Axes>"
      ]
     },
     "metadata": {},
     "output_type": "display_data"
    }
   ],
   "source": [
    "plt.title('ROC')\n",
    "plt.plot(fpr, tpr, 'b', label = 'AUC = %0.2f' % auc)\n",
    "plt.legend(loc = 'lower right')\n",
    "plt.plot([0, 1], [0, 1],'r--')\n",
    "plt.xlim([0, 1])\n",
    "plt.ylim([0, 1])\n",
    "plt.ylabel('True Positive Rate')\n",
    "plt.xlabel('False Positive Rate')\n",
    "plt.savefig('ROC')\n",
    "plt.show()"
   ]
  },
  {
   "cell_type": "markdown",
   "metadata": {},
   "source": [
    "#### precision_score, recall_score, f1_score"
   ]
  },
  {
   "cell_type": "code",
   "execution_count": 86,
   "metadata": {},
   "outputs": [],
   "source": [
    "from sklearn.metrics import precision_score, recall_score, f1_score"
   ]
  },
  {
   "cell_type": "code",
   "execution_count": 87,
   "metadata": {},
   "outputs": [
    {
     "data": {
      "text/plain": [
       "0.16366126455147226"
      ]
     },
     "execution_count": 87,
     "metadata": {},
     "output_type": "execute_result"
    }
   ],
   "source": [
    "precision_score(Y_test, predicted_classes)"
   ]
  },
  {
   "cell_type": "code",
   "execution_count": 88,
   "metadata": {},
   "outputs": [
    {
     "data": {
      "text/plain": [
       "0.6418979409131602"
      ]
     },
     "execution_count": 88,
     "metadata": {},
     "output_type": "execute_result"
    }
   ],
   "source": [
    "recall_score(Y_test, predicted_classes)"
   ]
  },
  {
   "cell_type": "code",
   "execution_count": 89,
   "metadata": {},
   "outputs": [
    {
     "data": {
      "text/plain": [
       "0.26082211713350306"
      ]
     },
     "execution_count": 89,
     "metadata": {},
     "output_type": "execute_result"
    }
   ],
   "source": [
    "f1_score(Y_test, predicted_classes)"
   ]
  },
  {
   "cell_type": "markdown",
   "metadata": {},
   "source": [
    "#### finding optimal cutoff probability"
   ]
  },
  {
   "cell_type": "code",
   "execution_count": 90,
   "metadata": {},
   "outputs": [],
   "source": [
    "optimal_idx = np.argmax(tpr - fpr)\n",
    "optimal_threshold = threshold[optimal_idx]"
   ]
  },
  {
   "cell_type": "code",
   "execution_count": 91,
   "metadata": {},
   "outputs": [
    {
     "data": {
      "text/plain": [
       "0.10541454937083286"
      ]
     },
     "execution_count": 91,
     "metadata": {},
     "output_type": "execute_result"
    }
   ],
   "source": [
    "optimal_threshold"
   ]
  },
  {
   "cell_type": "code",
   "execution_count": 92,
   "metadata": {},
   "outputs": [],
   "source": [
    "new_predictions = np.where(probs>optimal_threshold, 1, 0)"
   ]
  },
  {
   "cell_type": "code",
   "execution_count": 93,
   "metadata": {},
   "outputs": [
    {
     "data": {
      "text/html": [
       "<div>\n",
       "<style scoped>\n",
       "    .dataframe tbody tr th:only-of-type {\n",
       "        vertical-align: middle;\n",
       "    }\n",
       "\n",
       "    .dataframe tbody tr th {\n",
       "        vertical-align: top;\n",
       "    }\n",
       "\n",
       "    .dataframe thead th {\n",
       "        text-align: right;\n",
       "    }\n",
       "</style>\n",
       "<table border=\"1\" class=\"dataframe\">\n",
       "  <thead>\n",
       "    <tr style=\"text-align: right;\">\n",
       "      <th></th>\n",
       "      <th>Predicted 0</th>\n",
       "      <th>Predicted 1</th>\n",
       "    </tr>\n",
       "  </thead>\n",
       "  <tbody>\n",
       "    <tr>\n",
       "      <th>Actual 0</th>\n",
       "      <td>11063</td>\n",
       "      <td>6601</td>\n",
       "    </tr>\n",
       "    <tr>\n",
       "      <th>Actual 1</th>\n",
       "      <td>885</td>\n",
       "      <td>1349</td>\n",
       "    </tr>\n",
       "  </tbody>\n",
       "</table>\n",
       "</div>"
      ],
      "text/plain": [
       "          Predicted 0  Predicted 1\n",
       "Actual 0        11063         6601\n",
       "Actual 1          885         1349"
      ]
     },
     "execution_count": 93,
     "metadata": {},
     "output_type": "execute_result"
    }
   ],
   "source": [
    "new_confusion_mat = confusion_matrix(Y_test, new_predictions)\n",
    "new_confusion_df = pd.DataFrame(new_confusion_mat, index=['Actual 0','Actual 1'], columns=['Predicted 0','Predicted 1'])\n",
    "new_confusion_df"
   ]
  },
  {
   "cell_type": "code",
   "execution_count": 94,
   "metadata": {},
   "outputs": [
    {
     "data": {
      "image/png": "[encoded data removed]",
      "text/plain": [
       "<Figure size 432x288 with 2 Axes>"
      ]
     },
     "metadata": {},
     "output_type": "display_data"
    }
   ],
   "source": [
    "_=sns.heatmap(new_confusion_df, cmap='coolwarm', annot=True)"
   ]
  },
  {
   "cell_type": "markdown",
   "metadata": {},
   "source": [
    "#### New accuracy, precision_scor,recall_score,f1_score"
   ]
  },
  {
   "cell_type": "code",
   "execution_count": 95,
   "metadata": {},
   "outputs": [
    {
     "data": {
      "text/plain": [
       "0.6237812845512112"
      ]
     },
     "execution_count": 95,
     "metadata": {},
     "output_type": "execute_result"
    }
   ],
   "source": [
    "accuracy = sum(new_predictions == Y_test) / len(Y_test)\n",
    "accuracy"
   ]
  },
  {
   "cell_type": "code",
   "execution_count": 96,
   "metadata": {},
   "outputs": [
    {
     "data": {
      "text/plain": [
       "0.16968553459119498"
      ]
     },
     "execution_count": 96,
     "metadata": {},
     "output_type": "execute_result"
    }
   ],
   "source": [
    "precision_score(Y_test, new_predictions)"
   ]
  },
  {
   "cell_type": "code",
   "execution_count": 97,
   "metadata": {},
   "outputs": [
    {
     "data": {
      "text/plain": [
       "0.6038495971351835"
      ]
     },
     "execution_count": 97,
     "metadata": {},
     "output_type": "execute_result"
    }
   ],
   "source": [
    "recall_score(Y_test, new_predictions)"
   ]
  },
  {
   "cell_type": "code",
   "execution_count": 98,
   "metadata": {},
   "outputs": [
    {
     "data": {
      "text/plain": [
       "0.2649253731343284"
      ]
     },
     "execution_count": 98,
     "metadata": {},
     "output_type": "execute_result"
    }
   ],
   "source": [
    "f1_score(Y_test, new_predictions)"
   ]
  },
  {
   "cell_type": "markdown",
   "metadata": {},
   "source": [
    "# Random Forest Model"
   ]
  },
  {
   "cell_type": "code",
   "execution_count": 99,
   "metadata": {},
   "outputs": [],
   "source": [
    "from sklearn.ensemble import RandomForestClassifier"
   ]
  },
  {
   "cell_type": "markdown",
   "metadata": {},
   "source": [
    "#### Fitting Radom Forest model to data"
   ]
  },
  {
   "cell_type": "code",
   "execution_count": 100,
   "metadata": {},
   "outputs": [],
   "source": [
    "rf_model = RandomForestClassifier(n_estimators=10,max_depth=25,min_samples_split=3)"
   ]
  },
  {
   "cell_type": "code",
   "execution_count": 101,
   "metadata": {
    "scrolled": true
   },
   "outputs": [
    {
     "data": {
      "text/plain": [
       "RandomForestClassifier(bootstrap=True, class_weight=None, criterion='gini',\n",
       "            max_depth=25, max_features='auto', max_leaf_nodes=None,\n",
       "            min_impurity_decrease=0.0, min_impurity_split=None,\n",
       "            min_samples_leaf=1, min_samples_split=3,\n",
       "            min_weight_fraction_leaf=0.0, n_estimators=10, n_jobs=1,\n",
       "            oob_score=False, random_state=None, verbose=0,\n",
       "            warm_start=False)"
      ]
     },
     "execution_count": 101,
     "metadata": {},
     "output_type": "execute_result"
    }
   ],
   "source": [
    "rf_model.fit(X_train, Y_train)"
   ]
  },
  {
   "cell_type": "markdown",
   "metadata": {},
   "source": [
    "#### Predicting and evaluating the model"
   ]
  },
  {
   "cell_type": "code",
   "execution_count": 102,
   "metadata": {},
   "outputs": [],
   "source": [
    "predictions = rf_model.predict(X_test)"
   ]
  },
  {
   "cell_type": "code",
   "execution_count": 103,
   "metadata": {},
   "outputs": [],
   "source": [
    "from sklearn.metrics import accuracy_score"
   ]
  },
  {
   "cell_type": "code",
   "execution_count": 104,
   "metadata": {},
   "outputs": [
    {
     "data": {
      "text/plain": [
       "0.8764699969846216"
      ]
     },
     "execution_count": 104,
     "metadata": {},
     "output_type": "execute_result"
    }
   ],
   "source": [
    "accuracy_score(Y_test, predictions)"
   ]
  },
  {
   "cell_type": "code",
   "execution_count": 105,
   "metadata": {},
   "outputs": [
    {
     "data": {
      "text/plain": [
       "0.211340206185567"
      ]
     },
     "execution_count": 105,
     "metadata": {},
     "output_type": "execute_result"
    }
   ],
   "source": [
    "precision_score(Y_test, predictions)"
   ]
  },
  {
   "cell_type": "code",
   "execution_count": 106,
   "metadata": {},
   "outputs": [
    {
     "data": {
      "text/html": [
       "<div>\n",
       "<style scoped>\n",
       "    .dataframe tbody tr th:only-of-type {\n",
       "        vertical-align: middle;\n",
       "    }\n",
       "\n",
       "    .dataframe tbody tr th {\n",
       "        vertical-align: top;\n",
       "    }\n",
       "\n",
       "    .dataframe thead th {\n",
       "        text-align: right;\n",
       "    }\n",
       "</style>\n",
       "<table border=\"1\" class=\"dataframe\">\n",
       "  <thead>\n",
       "    <tr style=\"text-align: right;\">\n",
       "      <th></th>\n",
       "      <th>Predicted 0</th>\n",
       "      <th>Predicted 1</th>\n",
       "    </tr>\n",
       "  </thead>\n",
       "  <tbody>\n",
       "    <tr>\n",
       "      <th>Actual 0</th>\n",
       "      <td>17358</td>\n",
       "      <td>306</td>\n",
       "    </tr>\n",
       "    <tr>\n",
       "      <th>Actual 1</th>\n",
       "      <td>2152</td>\n",
       "      <td>82</td>\n",
       "    </tr>\n",
       "  </tbody>\n",
       "</table>\n",
       "</div>"
      ],
      "text/plain": [
       "          Predicted 0  Predicted 1\n",
       "Actual 0        17358          306\n",
       "Actual 1         2152           82"
      ]
     },
     "execution_count": 106,
     "metadata": {},
     "output_type": "execute_result"
    }
   ],
   "source": [
    "confusion_mat = confusion_matrix(Y_test, predictions)\n",
    "confusion_df = pd.DataFrame(confusion_mat, index=['Actual 0','Actual 1'],\\\n",
    "                            columns=['Predicted 0','Predicted 1'])\n",
    "confusion_df"
   ]
  },
  {
   "cell_type": "markdown",
   "metadata": {},
   "source": [
    "#### Plotting important features and their level of importance"
   ]
  },
  {
   "cell_type": "code",
   "execution_count": 107,
   "metadata": {},
   "outputs": [
    {
     "data": {
      "image/png": "[encoded data removed]",
      "text/plain": [
       "<Figure size 720x432 with 1 Axes>"
      ]
     },
     "metadata": {},
     "output_type": "display_data"
    }
   ],
   "source": [
    "feature_list = X_train.columns\n",
    "features = rf_model.feature_importances_\n",
    "most_imp = pd.DataFrame([a for a in zip(feature_list,features)], columns=[\"Feature\", \"Importance\"]).nlargest(10, \"Importance\")\n",
    "most_imp.sort_values(by=\"Importance\", inplace=True)\n",
    "plt.figure(figsize=(10,6))\n",
    "plt.barh(range(len(most_imp)), most_imp.Importance, align='center', alpha=0.8)\n",
    "plt.yticks(range(len(most_imp)), most_imp.Feature, fontsize=14)\n",
    "plt.xlabel('Importance')\n",
    "plt.title('Most important features')\n",
    "plt.savefig('Most imp')\n",
    "plt.show()"
   ]
  },
  {
   "cell_type": "code",
   "execution_count": null,
   "metadata": {},
   "outputs": [],
   "source": []
  }
 ],
 "metadata": {
  "kernelspec": {
   "display_name": "Python 3",
   "language": "python",
   "name": "python3"
  },
  "language_info": {
   "codemirror_mode": {
    "name": "ipython",
    "version": 3
   },
   "file_extension": ".py",
   "mimetype": "text/x-python",
   "name": "python",
   "nbconvert_exporter": "python",
   "pygments_lexer": "ipython3",
   "version": "3.6.5"
  }
 },
 "nbformat": 4,
 "nbformat_minor": 2
}
